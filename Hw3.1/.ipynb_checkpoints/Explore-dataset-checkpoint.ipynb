{
 "cells": [
  {
   "cell_type": "code",
   "execution_count": 1,
   "metadata": {},
   "outputs": [],
   "source": [
    "import pyvista as pv \n",
    "import numpy as np"
   ]
  },
  {
   "cell_type": "markdown",
   "metadata": {},
   "source": [
    "### Create a regular grid"
   ]
  },
  {
   "cell_type": "code",
   "execution_count": 2,
   "metadata": {},
   "outputs": [
    {
     "data": {
      "application/vnd.jupyter.widget-view+json": {
       "model_id": "a55aa30746f94c8285f8d289558cd9a4",
       "version_major": 2,
       "version_minor": 0
      },
      "text/plain": [
       "Widget(value=\"<iframe src='http://localhost:54234/index.html?ui=P_0x23658536c40_0&reconnect=auto' style='width…"
      ]
     },
     "metadata": {},
     "output_type": "display_data"
    }
   ],
   "source": [
    "grid = pv.UniformGrid(dimensions=(5, 5, 1))\n",
    "pl = pv.Plotter()\n",
    "pl.add_mesh(grid, show_edges=True, line_width=5)\n",
    "pl.show()"
   ]
  },
  {
   "cell_type": "markdown",
   "metadata": {},
   "source": [
    "### Add data to cells or points"
   ]
  },
  {
   "cell_type": "code",
   "execution_count": 3,
   "metadata": {},
   "outputs": [
    {
     "data": {
      "application/vnd.jupyter.widget-view+json": {
       "model_id": "aef981bdec1e4c11bb153095c41939db",
       "version_major": 2,
       "version_minor": 0
      },
      "text/plain": [
       "Widget(value=\"<iframe src='http://localhost:54234/index.html?ui=P_0x236585369d0_1&reconnect=auto' style='width…"
      ]
     },
     "metadata": {},
     "output_type": "display_data"
    }
   ],
   "source": [
    "simple_range = range(grid.n_cells)\n",
    "grid.cell_data['data'] = simple_range\n",
    "grid.plot(cpos='xy', show_edges=True)"
   ]
  },
  {
   "cell_type": "code",
   "execution_count": 4,
   "metadata": {
    "scrolled": false
   },
   "outputs": [
    {
     "data": {
      "application/vnd.jupyter.widget-view+json": {
       "model_id": "17f87d840285499597a4b162e5cf3e48",
       "version_major": 2,
       "version_minor": 0
      },
      "text/plain": [
       "Widget(value=\"<iframe src='http://localhost:54234/index.html?ui=P_0x23665861a30_2&reconnect=auto' style='width…"
      ]
     },
     "metadata": {},
     "output_type": "display_data"
    }
   ],
   "source": [
    "simple_range = range(grid.n_points)\n",
    "grid.point_data['data'] = simple_range\n",
    "pl = pv.Plotter()\n",
    "pl.add_mesh(grid, show_edges=True)\n",
    "pl.show(cpos='xy')"
   ]
  },
  {
   "cell_type": "code",
   "execution_count": 5,
   "metadata": {},
   "outputs": [
    {
     "data": {
      "text/plain": [
       "pyvista_ndarray([ 0,  1,  2,  3,  4,  5,  6,  7,  8,  9, 10, 11, 12, 13,\n",
       "                 14, 15, 16, 17, 18, 19, 20, 21, 22, 23, 24])"
      ]
     },
     "execution_count": 5,
     "metadata": {},
     "output_type": "execute_result"
    }
   ],
   "source": [
    "grid.point_data['data']"
   ]
  },
  {
   "cell_type": "markdown",
   "metadata": {},
   "source": [
    "### Access cells information"
   ]
  },
  {
   "cell_type": "code",
   "execution_count": 6,
   "metadata": {},
   "outputs": [
    {
     "data": {
      "text/plain": [
       "16"
      ]
     },
     "execution_count": 6,
     "metadata": {},
     "output_type": "execute_result"
    }
   ],
   "source": [
    "# number of cells in the grid\n",
    "grid.n_cells"
   ]
  },
  {
   "cell_type": "code",
   "execution_count": 7,
   "metadata": {},
   "outputs": [
    {
     "data": {
      "text/plain": [
       "Cell (0x236658cf7c0)\n",
       "  Type:        <CellType.PIXEL: 8>\n",
       "  Linear:      True\n",
       "  Dimension:   2\n",
       "  N Points:    4\n",
       "  N Faces:     0\n",
       "  N Edges:     4\n",
       "  X Bounds:    0.000e+00, 1.000e+00\n",
       "  Y Bounds:    0.000e+00, 1.000e+00\n",
       "  Z Bounds:    0.000e+00, 0.000e+00"
      ]
     },
     "execution_count": 7,
     "metadata": {},
     "output_type": "execute_result"
    }
   ],
   "source": [
    "# select a cell\n",
    "grid.cell[0]"
   ]
  },
  {
   "cell_type": "code",
   "execution_count": 8,
   "metadata": {},
   "outputs": [
    {
     "data": {
      "text/plain": [
       "Cell (0x236658cf700)\n",
       "  Type:        <CellType.PIXEL: 8>\n",
       "  Linear:      True\n",
       "  Dimension:   2\n",
       "  N Points:    4\n",
       "  N Faces:     0\n",
       "  N Edges:     4\n",
       "  X Bounds:    0.000e+00, 1.000e+00\n",
       "  Y Bounds:    0.000e+00, 1.000e+00\n",
       "  Z Bounds:    0.000e+00, 0.000e+00"
      ]
     },
     "execution_count": 8,
     "metadata": {},
     "output_type": "execute_result"
    }
   ],
   "source": [
    "cell = grid.get_cell(0)\n",
    "cell"
   ]
  },
  {
   "cell_type": "markdown",
   "metadata": {},
   "source": [
    "### Access edges information"
   ]
  },
  {
   "cell_type": "code",
   "execution_count": 9,
   "metadata": {},
   "outputs": [
    {
     "data": {
      "text/plain": [
       "[Cell (0x236658cfd00)\n",
       "   Type:        <CellType.LINE: 3>\n",
       "   Linear:      True\n",
       "   Dimension:   1\n",
       "   N Points:    2\n",
       "   N Faces:     0\n",
       "   N Edges:     0\n",
       "   X Bounds:    0.000e+00, 1.000e+00\n",
       "   Y Bounds:    0.000e+00, 0.000e+00\n",
       "   Z Bounds:    0.000e+00, 0.000e+00,\n",
       " Cell (0x236658cfee0)\n",
       "   Type:        <CellType.LINE: 3>\n",
       "   Linear:      True\n",
       "   Dimension:   1\n",
       "   N Points:    2\n",
       "   N Faces:     0\n",
       "   N Edges:     0\n",
       "   X Bounds:    1.000e+00, 1.000e+00\n",
       "   Y Bounds:    0.000e+00, 1.000e+00\n",
       "   Z Bounds:    0.000e+00, 0.000e+00,\n",
       " Cell (0x236658cf760)\n",
       "   Type:        <CellType.LINE: 3>\n",
       "   Linear:      True\n",
       "   Dimension:   1\n",
       "   N Points:    2\n",
       "   N Faces:     0\n",
       "   N Edges:     0\n",
       "   X Bounds:    0.000e+00, 1.000e+00\n",
       "   Y Bounds:    1.000e+00, 1.000e+00\n",
       "   Z Bounds:    0.000e+00, 0.000e+00,\n",
       " Cell (0x236658cf940)\n",
       "   Type:        <CellType.LINE: 3>\n",
       "   Linear:      True\n",
       "   Dimension:   1\n",
       "   N Points:    2\n",
       "   N Faces:     0\n",
       "   N Edges:     0\n",
       "   X Bounds:    0.000e+00, 0.000e+00\n",
       "   Y Bounds:    0.000e+00, 1.000e+00\n",
       "   Z Bounds:    0.000e+00, 0.000e+00]"
      ]
     },
     "execution_count": 9,
     "metadata": {},
     "output_type": "execute_result"
    }
   ],
   "source": [
    "cell.edges"
   ]
  },
  {
   "cell_type": "code",
   "execution_count": 10,
   "metadata": {},
   "outputs": [
    {
     "data": {
      "text/plain": [
       "Cell (0x236658cf9a0)\n",
       "  Type:        <CellType.LINE: 3>\n",
       "  Linear:      True\n",
       "  Dimension:   1\n",
       "  N Points:    2\n",
       "  N Faces:     0\n",
       "  N Edges:     0\n",
       "  X Bounds:    0.000e+00, 1.000e+00\n",
       "  Y Bounds:    0.000e+00, 0.000e+00\n",
       "  Z Bounds:    0.000e+00, 0.000e+00"
      ]
     },
     "execution_count": 10,
     "metadata": {},
     "output_type": "execute_result"
    }
   ],
   "source": [
    "edge = cell.get_edge(0)\n",
    "edge"
   ]
  },
  {
   "cell_type": "code",
   "execution_count": 11,
   "metadata": {},
   "outputs": [
    {
     "data": {
      "text/plain": [
       "[0, 1]"
      ]
     },
     "execution_count": 11,
     "metadata": {},
     "output_type": "execute_result"
    }
   ],
   "source": [
    "# point ids\n",
    "edge.point_ids"
   ]
  },
  {
   "cell_type": "code",
   "execution_count": 12,
   "metadata": {},
   "outputs": [
    {
     "data": {
      "text/plain": [
       "0"
      ]
     },
     "execution_count": 12,
     "metadata": {},
     "output_type": "execute_result"
    }
   ],
   "source": [
    "# data value for a given point id\n",
    "grid.point_data['data'][0]"
   ]
  },
  {
   "cell_type": "code",
   "execution_count": 13,
   "metadata": {},
   "outputs": [
    {
     "data": {
      "text/plain": [
       "1"
      ]
     },
     "execution_count": 13,
     "metadata": {},
     "output_type": "execute_result"
    }
   ],
   "source": [
    "grid.point_data['data'][1]"
   ]
  },
  {
   "cell_type": "code",
   "execution_count": 14,
   "metadata": {},
   "outputs": [
    {
     "data": {
      "text/plain": [
       "array([[0., 0., 0.],\n",
       "       [1., 0., 0.]])"
      ]
     },
     "execution_count": 14,
     "metadata": {},
     "output_type": "execute_result"
    }
   ],
   "source": [
    "# points coordinates\n",
    "edge.points"
   ]
  },
  {
   "cell_type": "code",
   "execution_count": 15,
   "metadata": {},
   "outputs": [
    {
     "data": {
      "application/vnd.jupyter.widget-view+json": {
       "model_id": "fed2441a42674a5893e9f9783773c32f",
       "version_major": 2,
       "version_minor": 0
      },
      "text/plain": [
       "Widget(value=\"<iframe src='http://localhost:54234/index.html?ui=P_0x236658da820_3&reconnect=auto' style='width…"
      ]
     },
     "metadata": {},
     "output_type": "display_data"
    }
   ],
   "source": [
    "# Draw a line\n",
    "line = pv.Line((0, 0, 0), (0, 1, 0))\n",
    "line.plot(color='r', line_width=5)"
   ]
  },
  {
   "cell_type": "code",
   "execution_count": 16,
   "metadata": {},
   "outputs": [
    {
     "data": {
      "application/vnd.jupyter.widget-view+json": {
       "model_id": "29a1bfb276044606b3970173065da088",
       "version_major": 2,
       "version_minor": 0
      },
      "text/plain": [
       "Widget(value=\"<iframe src='http://localhost:54234/index.html?ui=P_0x23665957400_4&reconnect=auto' style='width…"
      ]
     },
     "metadata": {},
     "output_type": "display_data"
    }
   ],
   "source": [
    "pl = pv.Plotter()\n",
    "pl.add_mesh(grid, show_edges=True)\n",
    "pl.add_mesh(line, color='r', line_width=5)\n",
    "line2 = pv.Line((1, 1.5, 0), (0.5, 3.5, 0))\n",
    "pl.add_mesh(line2, color='r', line_width=5)\n",
    "pl.show(cpos='xy')"
   ]
  },
  {
   "cell_type": "code",
   "execution_count": null,
   "metadata": {},
   "outputs": [],
   "source": []
  }
 ],
 "metadata": {
  "kernelspec": {
   "display_name": "Python 3 (ipykernel)",
   "language": "python",
   "name": "python3"
  },
  "language_info": {
   "codemirror_mode": {
    "name": "ipython",
    "version": 3
   },
   "file_extension": ".py",
   "mimetype": "text/x-python",
   "name": "python",
   "nbconvert_exporter": "python",
   "pygments_lexer": "ipython3",
   "version": "3.9.5"
  },
  "vscode": {
   "interpreter": {
    "hash": "aee8b7b246df8f9039afb4144a1f6fd8d2ca17a180786b69acc140d282b71a49"
   }
  }
 },
 "nbformat": 4,
 "nbformat_minor": 2
}
