{
 "cells": [
  {
   "cell_type": "code",
   "execution_count": 1,
   "metadata": {},
   "outputs": [],
   "source": [
    "import pyvista as pv\n",
    "import numpy as np\n",
    "import math"
   ]
  },
  {
   "cell_type": "code",
   "execution_count": 2,
   "metadata": {},
   "outputs": [],
   "source": [
    "def f(x, y):\n",
    "    return np.sin(10*x)+np.cos(4*y)-np.cos(3*x*y)\n",
    "\n",
    "x = np.arange(0, 1, 0.05)\n",
    "y = np.arange(0, 1, 0.05)\n",
    "XX, YY = np.meshgrid(x, y)\n",
    "data = f(XX, YY)"
   ]
  },
  {
   "cell_type": "code",
   "execution_count": 3,
   "metadata": {},
   "outputs": [
    {
     "data": {
      "text/plain": [
       "(20, 20)"
      ]
     },
     "execution_count": 3,
     "metadata": {},
     "output_type": "execute_result"
    }
   ],
   "source": [
    "data.shape"
   ]
  },
  {
   "cell_type": "code",
   "execution_count": 4,
   "metadata": {},
   "outputs": [
    {
     "data": {
      "application/vnd.jupyter.widget-view+json": {
       "model_id": "cfc798b9064249daafee0c5a526f5aa1",
       "version_major": 2,
       "version_minor": 0
      },
      "text/plain": [
       "Widget(value=\"<iframe src='http://localhost:51613/index.html?ui=P_0x14d9ee50b80_0&reconnect=auto' style='width…"
      ]
     },
     "metadata": {},
     "output_type": "display_data"
    }
   ],
   "source": [
    "grid = pv.UniformGrid(dimensions=(data.shape[0], data.shape[1], 1))\n",
    "pl = pv.Plotter()\n",
    "pl.add_mesh(grid, show_edges=True, line_width=5)\n",
    "pl.show(cpos='xy')"
   ]
  },
  {
   "cell_type": "code",
   "execution_count": 5,
   "metadata": {},
   "outputs": [
    {
     "data": {
      "application/vnd.jupyter.widget-view+json": {
       "model_id": "739408185ff541b295c3a4b586ac42de",
       "version_major": 2,
       "version_minor": 0
      },
      "text/plain": [
       "Widget(value=\"<iframe src='http://localhost:51613/index.html?ui=P_0x14d9f712f70_1&reconnect=auto' style='width…"
      ]
     },
     "metadata": {},
     "output_type": "display_data"
    }
   ],
   "source": [
    "pl = pv.Plotter()\n",
    "grid.point_data['data'] = data.ravel()\n",
    "pl.add_mesh(grid)\n",
    "pl.show(cpos='xy')"
   ]
  },
  {
   "cell_type": "code",
   "execution_count": 6,
   "metadata": {},
   "outputs": [],
   "source": [
    "isovalue = 0.15"
   ]
  },
  {
   "cell_type": "code",
   "execution_count": 7,
   "metadata": {},
   "outputs": [
    {
     "data": {
      "application/vnd.jupyter.widget-view+json": {
       "model_id": "f96527189436442f8ee25baaf71bc05c",
       "version_major": 2,
       "version_minor": 0
      },
      "text/plain": [
       "Widget(value=\"<iframe src='http://localhost:51613/index.html?ui=P_0x14da7ff8340_2&reconnect=auto' style='width…"
      ]
     },
     "metadata": {},
     "output_type": "display_data"
    }
   ],
   "source": [
    "cont = grid.contour([isovalue])\n",
    "pl = pv.Plotter()\n",
    "pl.add_mesh(grid, show_edges=True, line_width=1)\n",
    "pl.add_mesh(cont, color=\"r\", line_width=10)\n",
    "\n",
    "pl.show(cpos='xy')\n",
    "\n",
    "# This is how your final result should look like:"
   ]
  },
  {
   "cell_type": "code",
   "execution_count": 8,
   "metadata": {},
   "outputs": [],
   "source": [
    "def getContours(grid, isoVal):\n",
    "    lines = []\n",
    "    for i in range(grid.n_cells):\n",
    "        cell = grid.get_cell(i)\n",
    "        for j in range(cell.n_edges):\n",
    "            edge = cell.get_edge(j)\n",
    "            ids = edge.point_ids\n",
    "            p1 = grid.point_data['data'][ids[0]]\n",
    "            p2 = grid.point_data['data'][ids[1]]\n",
    "            if (p1 < isoVal and isoVal < p2) or (p2 < isoVal and isoVal < p1):\n",
    "                lines.append(edge)\n",
    "    return lines\n",
    "\n",
    "def drawLines(lines):\n",
    "    block = pv.MultiBlock()\n",
    "    for line in lines:\n",
    "        points = line.points\n",
    "        mesh = pv.Line(tuple(points[0]), tuple(points[1]))\n",
    "        block.append(mesh)\n",
    "    block.combine()\n",
    "    return block"
   ]
  },
  {
   "cell_type": "code",
   "execution_count": 9,
   "metadata": {},
   "outputs": [
    {
     "data": {
      "application/vnd.jupyter.widget-view+json": {
       "model_id": "380f4ab5d0e74162a1d2655ed3e0a92d",
       "version_major": 2,
       "version_minor": 0
      },
      "text/plain": [
       "Widget(value=\"<iframe src='http://localhost:51613/index.html?ui=P_0x14da8074cd0_3&reconnect=auto' style='width…"
      ]
     },
     "metadata": {},
     "output_type": "display_data"
    }
   ],
   "source": [
    "isoVal = .15\n",
    "lines = getContours(grid, isoVal)\n",
    "block = drawLines(lines)\n",
    "\n",
    "pl = pv.Plotter()\n",
    "grid.point_data['data'] = data.ravel()\n",
    "pl.add_mesh(grid, show_edges=True, line_width=1)\n",
    "pl.add_mesh(block, color='r', line_width=5)\n",
    "pl.show(cpos='xy')"
   ]
  },
  {
   "cell_type": "code",
   "execution_count": 10,
   "metadata": {},
   "outputs": [],
   "source": [
    "def interpolate(grid, isoVal):\n",
    "    lines = []\n",
    "    for i in range(grid.n_cells):\n",
    "        validEdges = []\n",
    "        cell = grid.get_cell(i)\n",
    "        for j in range(cell.n_edges):\n",
    "            edge = cell.get_edge(j)\n",
    "            ids = edge.point_ids\n",
    "            p1 = grid.point_data['data'][ids[0]]\n",
    "            p2 = grid.point_data['data'][ids[1]]\n",
    "            if (p1 < isoVal and isoVal < p2) or (p2 < isoVal and isoVal < p1):\n",
    "                validEdges.append(edge)\n",
    "                \n",
    "        # interpolate step\n",
    "        interPoints = []\n",
    "        for edge in validEdges:\n",
    "            points = edge.points\n",
    "            v1 = points[0]\n",
    "            v2 = points[1]\n",
    "            ids = edge.point_ids\n",
    "            p1 = grid.point_data['data'][ids[0]]\n",
    "            p2 = grid.point_data['data'][ids[1]]\n",
    "            \n",
    "            # find dif\n",
    "            diff = p1 - p2\n",
    "            step = p1 - isoVal\n",
    "            test = step / diff            \n",
    "            \n",
    "            # is vert\n",
    "            if v1[0] == v2[0]:\n",
    "                if v1[1] > v2[1]:\n",
    "                    y = v1[1] - test\n",
    "                else:\n",
    "                    y = v1[1] + test\n",
    "                interPoints.append([v1[0], y, 0.0])\n",
    "                \n",
    "            # is horz\n",
    "            elif v1[1] == v2[1]:\n",
    "                if v1[0] > v2[0]:\n",
    "                    x = v1[0] - test\n",
    "                else:\n",
    "                    x = v1[0] + test\n",
    "                interPoints.append([x, v1[1], 0.0])\n",
    "            \n",
    "        if len(interPoints) > 0:\n",
    "            lines.append(interPoints)\n",
    "        interPoints = []\n",
    "        validEdges = []\n",
    "    return lines\n",
    "\n",
    "        \n",
    "def drawContours(lines):\n",
    "    block = pv.MultiBlock()\n",
    "    for line in lines:\n",
    "        mesh = pv.Line(tuple(line[0]), tuple(line[1]))\n",
    "        block.append(mesh)\n",
    "    block.combine()\n",
    "    return block "
   ]
  },
  {
   "cell_type": "code",
   "execution_count": 11,
   "metadata": {},
   "outputs": [
    {
     "data": {
      "application/vnd.jupyter.widget-view+json": {
       "model_id": "879cb00ac1424dea8161aa1bb3e8aca1",
       "version_major": 2,
       "version_minor": 0
      },
      "text/plain": [
       "Widget(value=\"<iframe src='http://localhost:51613/index.html?ui=P_0x14da7ff8f10_4&reconnect=auto' style='width…"
      ]
     },
     "metadata": {},
     "output_type": "display_data"
    }
   ],
   "source": [
    "isoVal = .15\n",
    "lines = interpolate(grid, isoVal)\n",
    "block = drawContours(lines)\n",
    "\n",
    "pl = pv.Plotter()\n",
    "grid.point_data['data'] = data.ravel()\n",
    "pl.add_mesh(grid, show_edges=True, line_width=1)\n",
    "pl.add_mesh(block, color='r', line_width=10)\n",
    "pl.show(cpos='xy')"
   ]
  }
 ],
 "metadata": {
  "kernelspec": {
   "display_name": "Python 3 (ipykernel)",
   "language": "python",
   "name": "python3"
  },
  "language_info": {
   "codemirror_mode": {
    "name": "ipython",
    "version": 3
   },
   "file_extension": ".py",
   "mimetype": "text/x-python",
   "name": "python",
   "nbconvert_exporter": "python",
   "pygments_lexer": "ipython3",
   "version": "3.9.5"
  },
  "vscode": {
   "interpreter": {
    "hash": "25751e66e043df2b62dfc31b84f362b7b078bf80df219ee24f0914e16d057244"
   }
  }
 },
 "nbformat": 4,
 "nbformat_minor": 2
}
