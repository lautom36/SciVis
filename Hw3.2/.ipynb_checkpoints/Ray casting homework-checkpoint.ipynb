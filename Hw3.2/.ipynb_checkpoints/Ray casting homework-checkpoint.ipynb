{
 "cells": [
  {
   "cell_type": "code",
   "execution_count": 38,
   "id": "45556ebf",
   "metadata": {},
   "outputs": [
    {
     "name": "stdout",
     "output_type": "stream",
     "text": [
      "Using matplotlib backend: nbAgg\n"
     ]
    }
   ],
   "source": [
    "%matplotlib\n",
    "import numpy as np\n",
    "import matplotlib.pyplot as plt\n",
    "import math"
   ]
  },
  {
   "cell_type": "code",
   "execution_count": 39,
   "id": "c103e528",
   "metadata": {},
   "outputs": [],
   "source": [
    "def normalize(vector):\n",
    "    return vector / np.linalg.norm(vector)"
   ]
  },
  {
   "cell_type": "code",
   "execution_count": 40,
   "id": "e150ba7c",
   "metadata": {},
   "outputs": [],
   "source": [
    "width = 400\n",
    "height = 300"
   ]
  },
  {
   "cell_type": "code",
   "execution_count": 41,
   "id": "bc01aea3",
   "metadata": {},
   "outputs": [],
   "source": [
    "camera = np.array([0, 0, 1])\n",
    "ratio = float(width) / height\n",
    "screen = (-1, 1 / ratio, 1, -1 / ratio) # left, top, right, bottom"
   ]
  },
  {
   "cell_type": "code",
   "execution_count": 42,
   "id": "4ccdade8",
   "metadata": {},
   "outputs": [],
   "source": [
    "objects = [\n",
    "    { 'center': np.array([-0.1, 0, -1.5]), 'radius': 0.7, 'color': np.array([0.7, 0, 0])},\n",
    "    { 'center': np.array([0.12, -0.15, 0]), 'radius': 0.1, 'color': np.array([0.7, 0, 0.7])},\n",
    "    { 'center': np.array([-0.2, 0.1, 0]), 'radius': 0.15, 'color': np.array([0, 0.6, 0])},\n",
    "]"
   ]
  },
  {
   "cell_type": "code",
   "execution_count": 56,
   "id": "d0d8650d",
   "metadata": {},
   "outputs": [],
   "source": [
    "def getRay(origin, direction, t):\n",
    "  # ray(t) = camera + (pixel - camera) / (||pixel - camera||) * t\n",
    "  # ray(t) = O + (D - O) / (||D - O||) * t\n",
    "  #        = O + d * t\n",
    "  return origin + direction * t\n",
    "\n",
    "def intersects(ray, circle):\n",
    "  # print(f\"circle: {circle['center']}\")\n",
    "  # print(f\"ray: {ray}\")\n",
    "  # ||X - C|| = r where r is the raduis, C is the center, and X = ray(t)\n",
    "  res = np.linalg.norm(ray - circle['center']) ** 2 - circle['radius'] ** 2\n",
    "  print(res)\n",
    "  return res\n",
    "\n",
    "def dist(p1, p2):\n",
    "  return math.sqrt(pow(p2[0]-p1[0], 2) + pow(p2[1]-p1[1], 2))"
   ]
  },
  {
   "cell_type": "code",
   "execution_count": 58,
   "id": "bd60caf8",
   "metadata": {},
   "outputs": [
    {
     "name": "stdout",
     "output_type": "stream",
     "text": [
      "3.271982190896243\n"
     ]
    },
    {
     "ename": "TypeError",
     "evalue": "unhashable type: 'numpy.ndarray'",
     "output_type": "error",
     "traceback": [
      "\u001b[1;31m---------------------------------------------------------------------------\u001b[0m",
      "\u001b[1;31mTypeError\u001b[0m                                 Traceback (most recent call last)",
      "\u001b[1;32ma:\\School\\2023 Spring\\Sci Vis\\Hw3.2\\Ray casting homework.ipynb Cell 7\u001b[0m in \u001b[0;36m1\n\u001b[0;32m     <a href='vscode-notebook-cell:/a%3A/School/2023%20Spring/Sci%20Vis/Hw3.2/Ray%20casting%20homework.ipynb#W5sZmlsZQ%3D%3D?line=16'>17</a>\u001b[0m res \u001b[39m=\u001b[39m intersects(currRay, circle)\n\u001b[0;32m     <a href='vscode-notebook-cell:/a%3A/School/2023%20Spring/Sci%20Vis/Hw3.2/Ray%20casting%20homework.ipynb#W5sZmlsZQ%3D%3D?line=17'>18</a>\u001b[0m \u001b[39mif\u001b[39;00m res \u001b[39m>\u001b[39m \u001b[39m0\u001b[39m:\n\u001b[1;32m---> <a href='vscode-notebook-cell:/a%3A/School/2023%20Spring/Sci%20Vis/Hw3.2/Ray%20casting%20homework.ipynb#W5sZmlsZQ%3D%3D?line=18'>19</a>\u001b[0m     color \u001b[39m=\u001b[39m circle[color]\n\u001b[0;32m     <a href='vscode-notebook-cell:/a%3A/School/2023%20Spring/Sci%20Vis/Hw3.2/Ray%20casting%20homework.ipynb#W5sZmlsZQ%3D%3D?line=19'>20</a>\u001b[0m \u001b[39melse\u001b[39;00m:\n\u001b[0;32m     <a href='vscode-notebook-cell:/a%3A/School/2023%20Spring/Sci%20Vis/Hw3.2/Ray%20casting%20homework.ipynb#W5sZmlsZQ%3D%3D?line=20'>21</a>\u001b[0m     count \u001b[39m+\u001b[39m\u001b[39m=\u001b[39m\u001b[39m1\u001b[39m\n",
      "\u001b[1;31mTypeError\u001b[0m: unhashable type: 'numpy.ndarray'"
     ]
    }
   ],
   "source": [
    "image = np.zeros((height, width, 3))\n",
    "count = 0\n",
    "for i, y in enumerate(np.linspace(screen[1], screen[3], height)):\n",
    "    for j, x in enumerate(np.linspace(screen[0], screen[2], width)):\n",
    "        # print(f\"i: {i} y: {y} j: {j} x: {x}\")\n",
    "        # screen is at the origin\n",
    "        pixel = np.array([x, y, 0])\n",
    "        origin = camera\n",
    "        direction = normalize(pixel - origin)\n",
    "        # t = distance between pixel and the origin\n",
    "        t = dist(pixel, origin)\n",
    "        color = np.zeros((3))\n",
    "\n",
    "        currRay = getRay(origin, direction, t)\n",
    "\n",
    "        for circle in objects:\n",
    "            res = intersects(currRay, circle)\n",
    "            if res > 0:\n",
    "                print(circle['color'])\n",
    "                color = circle['color']\n",
    "            else:\n",
    "                count +=1\n",
    "\n",
    "        # Find the nearest intersected sphere\n",
    "        # color = the color of the nearest intersected object\n",
    "\n",
    "        image[i, j] = np.clip(color, 0, 1)\n",
    "print(count)"
   ]
  },
  {
   "cell_type": "code",
   "execution_count": null,
   "id": "29855c6c",
   "metadata": {},
   "outputs": [],
   "source": [
    "plt.imshow(image)"
   ]
  }
 ],
 "metadata": {
  "kernelspec": {
   "display_name": "Python 3 (ipykernel)",
   "language": "python",
   "name": "python3"
  },
  "language_info": {
   "codemirror_mode": {
    "name": "ipython",
    "version": 3
   },
   "file_extension": ".py",
   "mimetype": "text/x-python",
   "name": "python",
   "nbconvert_exporter": "python",
   "pygments_lexer": "ipython3",
   "version": "3.9.5"
  }
 },
 "nbformat": 4,
 "nbformat_minor": 5
}
