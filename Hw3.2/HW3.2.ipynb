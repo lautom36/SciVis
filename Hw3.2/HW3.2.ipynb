{
 "cells": [
  {
   "cell_type": "markdown",
   "id": "b029c393",
   "metadata": {},
   "source": [
    "Imports"
   ]
  },
  {
   "cell_type": "code",
   "execution_count": null,
   "id": "49d78156",
   "metadata": {},
   "outputs": [],
   "source": [
    "import matplotlib.pyplot as plt\n",
    "import numpy as np\n",
    "from ipywidgets import *\n",
    "import pyvista as pv\n",
    "\n",
    "import OpenVisus as ov\n",
    "\n",
    "ov.DbModule.attach()"
   ]
  },
  {
   "cell_type": "markdown",
   "id": "32b5a077",
   "metadata": {},
   "source": [
    "Part 1"
   ]
  },
  {
   "cell_type": "code",
   "execution_count": null,
   "id": "769a3697",
   "metadata": {},
   "outputs": [],
   "source": [
    "#function to plot the image data with matplotlib\n",
    "#optional parameters: colormap, existing plot to reuse (for more interactivity)\n",
    "def showData2D(data, cmap=None, plot=None):\n",
    "    if len(data.shape)==3 and data.shape[0]==1: data=data[0,:,:]\n",
    "    if len(data.shape)==3 and data.shape[1]==1: data=data[:,0,:]   \n",
    "    if len(data.shape)==3 and data.shape[2]==1: data=data[:,:,0]\n",
    "    if(plot==None or cmap!=None):\n",
    "        fig=plt.figure(figsize = (7,5))\n",
    "        plot = plt.imshow(data, origin='lower', cmap=cmap)\n",
    "        plt.show()\n",
    "        return plot\n",
    "    else:\n",
    "        plot.set_data(data)\n",
    "        plt.show()\n",
    "        return plot\n",
    "\n",
    "def showData(data, cmap=None, pl=None, opacity='linear'):\n",
    "    \n",
    "    data = pv.wrap(data)\n",
    "    if pl == None:\n",
    "        pl = pv.Plotter()\n",
    "    #     pl.clear_actors()\n",
    "        actor = pl.add_mesh(data, cmap=cmap, opacity=opacity)\n",
    "        pl.show()\n",
    "        return pl\n",
    "    else:\n",
    "        pl.clear_actors()\n",
    "        actor = pl.add_mesh(data, cmap=cmap, opacity=opacity)\n",
    "        pl.show()\n",
    "        return pl\n",
    "#     if len(data.shape)==3 and data.shape[0]==1: data=data[0,:,:]\n",
    "#     if len(data.shape)==3 and data.shape[1]==1: data=data[:,0,:]   \n",
    "#     if len(data.shape)==3 and data.shape[2]==1: data=data[:,:,0]\n",
    "#     if(plot==None or cmap!=None):\n",
    "#         fig=plt.figure(figsize = (7,5))\n",
    "#         plot = plt.imshow(data, origin='lower', cmap=cmap)\n",
    "#         plt.show()\n",
    "#         return plot\n",
    "#     else:\n",
    "#         plot.set_data(data)\n",
    "#         plt.show()\n",
    "#         return plot"
   ]
  },
  {
   "attachments": {},
   "cell_type": "markdown",
   "id": "b91e06a3",
   "metadata": {},
   "source": [
    "1.) (CODING) In your Jupyter notebook provide a cell that loads the dataset at resolution 17, timestep 0 and creates a static visualization using matplotlib. [5 pts]"
   ]
  },
  {
   "cell_type": "code",
   "execution_count": null,
   "id": "5a36514e",
   "metadata": {},
   "outputs": [],
   "source": [
    "dataset=ov.LoadDataset(\"https://atlantis.sci.utah.edu/mod_visus?dataset=BlueMarble\")\n",
    "data = dataset.read(time=0, max_resolution=17)\n",
    "showData2D(data)"
   ]
  },
  {
   "attachments": {},
   "cell_type": "markdown",
   "id": "b8ada86d",
   "metadata": {},
   "source": [
    "2.) (CODING) Provide a new cell that loads the dataset at multiple resolutions, timestep 0 and creates an interactive visualization using matplotlib. Your interface should include a slider to change resolution with min resolution = 5, max resolution = 21, and step size = 4. [5 pts]"
   ]
  },
  {
   "cell_type": "code",
   "execution_count": null,
   "id": "4f10c07a",
   "metadata": {},
   "outputs": [],
   "source": [
    "# Plot the 2D image using matplotlib with different time and resolutions\n",
    "\n",
    "interact(\n",
    "    lambda resolution: showData2D(dataset.read(time=0,max_resolution=resolution)), \n",
    "    resolution=widgets.IntSlider(value=9,min=5,max=21,step=4))"
   ]
  },
  {
   "attachments": {},
   "cell_type": "markdown",
   "id": "6e3d432d",
   "metadata": {},
   "source": [
    "3.) (CODING) Provide a new cell that loads the dataset at multiple resolutions, timesteps and creates an interactive visualization using matplotlib. Your interface should include a slider to change resolution and a slider to change time. [5 pts]"
   ]
  },
  {
   "cell_type": "code",
   "execution_count": null,
   "id": "f1d9a691",
   "metadata": {},
   "outputs": [],
   "source": [
    "# Plot the 2D image using matplotlib with different time and resolutions\n",
    "\n",
    "interact(\n",
    "    lambda time,resolution: showData2D(dataset.read(time=time,max_resolution=resolution)),\n",
    "    time=widgets.IntSlider(value=0,min=0,max=11,step=1), \n",
    "    resolution=widgets.IntSlider(value=9,min=5,max=21,step=4))"
   ]
  },
  {
   "attachments": {},
   "cell_type": "markdown",
   "id": "71f37808",
   "metadata": {},
   "source": [
    "4.) NOT DONE \n",
    "\n",
    "(CODING) In a new cell, extend the interface you created in 3. by adding a threshold slider and modify the visualization to display the image after thresholding (Note: you need to perform thresholding on a grayscale image). Choose appropriate values for min, max and step size for the threshold slider. [5 pts]"
   ]
  },
  {
   "cell_type": "code",
   "execution_count": null,
   "id": "06e1777a",
   "metadata": {},
   "outputs": [],
   "source": [
    "def doThreshold(data, t):\n",
    "  data = makeGrey(data)\n",
    "  # print(type(data))\n",
    "  return data > t\n",
    "\n",
    "def makeGrey(data):\n",
    "  shape = data.shape\n",
    "  R,G,B=(0.2989*data[:,:,0], 0.5870*data[:,:,1], 0.1140*data[:,:,2])\n",
    "  grey_data=R+G+B\n",
    "  grey_data = np.reshape(grey_data, (shape[0], shape[1], 1))\n",
    "  return grey_data\n",
    "\n",
    "data = dataset.read(time=0, max_resolution=21)\n",
    "# print(np.mean(data))\n",
    "# print(np.min(data))\n",
    "# print(np.max(data))\n",
    "\n",
    "dataTest = doThreshold(data, 12)\n",
    "# print(dataTest)\n",
    "# print(np.mean(dataTest))\n",
    "# print(np.min(dataTest))\n",
    "# print(np.max(dataTest))\n",
    "\n",
    "\n",
    "pl = pv.Plotter()\n",
    "interact(\n",
    "    lambda time,resolution, threshold: showData(doThreshold(data, threshold), cmap=plt.get_cmap(\"Greys\"), pl=pl),\n",
    "    time=widgets.IntSlider(value=0,min=0,max=11,step=1), \n",
    "    resolution=widgets.IntSlider(value=9,min=5,max=21,step=4),\n",
    "    threshold=widgets.IntSlider(value=200, min=0, max=500, step=1))"
   ]
  },
  {
   "attachments": {},
   "cell_type": "markdown",
   "id": "35e0e757",
   "metadata": {},
   "source": [
    "5.) NOT DONE\n",
    "\n",
    "(CODING) Set the threshold value to 210 and identify the pixels above this threshold value as snow. [5 pts]\n",
    "\n",
    "1. Provide a cell that plots the density of snow as a function of time, at resolutions [5, 9, 13, 17, 21]. Comment your observations briefly.\n",
    "\n",
    "2. Provide a cell that computes and plots the error in the density of snow for successive resolutions (i.e. error between resolution 5 and 9, 9 and 13 and so on). Comment your observations briefly. Report the resolutions at which the standard deviation of the error is less than 0.002."
   ]
  },
  {
   "cell_type": "code",
   "execution_count": null,
   "id": "e0d8b7d9",
   "metadata": {},
   "outputs": [],
   "source": []
  },
  {
   "attachments": {},
   "cell_type": "markdown",
   "id": "39ec5b98",
   "metadata": {},
   "source": [
    "6.) NOT DONE\n",
    "\n",
    "(CODING) For each resolution you reported in 5.2, compute the range of  threshold values for which the density of snow in the Northern Hemisphere is approximately 5-15% during the winter season (December through March). For each resolution, report the mean threshold value. [5 pts]"
   ]
  },
  {
   "cell_type": "code",
   "execution_count": null,
   "id": "760f7a13",
   "metadata": {},
   "outputs": [],
   "source": []
  },
  {
   "attachments": {},
   "cell_type": "markdown",
   "id": "4fb484c8",
   "metadata": {},
   "source": [
    "7.) NOT DONE\n",
    "\n",
    "(CODING) Provide a cell that interactively plots the density of snow as a function of time. Your interface should include a slider to change the resolution. Note: You should use only the resolutions you found in 5.b and the corresponding mean threshold values you reported in 6. to compute the density of snow. For each resolution, report the month that received the highest amount of snow and the month that received the lowest amount of snow. [5 pts]"
   ]
  },
  {
   "cell_type": "code",
   "execution_count": null,
   "id": "247312c7",
   "metadata": {},
   "outputs": [],
   "source": []
  },
  {
   "attachments": {},
   "cell_type": "markdown",
   "id": "6d69c0ab",
   "metadata": {},
   "source": [
    "8.) NOT DONE\n",
    "\n",
    "(CODING) Divide the domain of the dataset into quadrants. Denote the quadrant in top left as Q1 and the quadrant in top right as Q2 (see image below). For resolution 21, with help of an appropriate visualization, find the months in which the density of snow in Q2 is greater than that in Q1. Use the mean threshold value you reported in 6. for resolution 21. [5 pts]"
   ]
  },
  {
   "cell_type": "code",
   "execution_count": null,
   "id": "d0b5c400",
   "metadata": {},
   "outputs": [],
   "source": []
  },
  {
   "attachments": {},
   "cell_type": "markdown",
   "id": "1abb3a16",
   "metadata": {},
   "source": [
    "Questions:"
   ]
  },
  {
   "attachments": {},
   "cell_type": "markdown",
   "id": "a79efefd",
   "metadata": {},
   "source": [
    "Question 1: What is the embedding dimension of this dataset? [3 pts]"
   ]
  },
  {
   "attachments": {},
   "cell_type": "markdown",
   "id": "5e920493",
   "metadata": {},
   "source": [
    "Question 2: What is the embedding dimension of the visualization you made in coding exercise 3 and 4? [3 pts]"
   ]
  },
  {
   "attachments": {},
   "cell_type": "markdown",
   "id": "a0942888",
   "metadata": {},
   "source": [
    "Question 3:  What is the size of the numpy array in bytes for loading the dataset at resolutions [5, 9, 13, 17, 21], including in memory only timestep 9? [3 pts]"
   ]
  },
  {
   "attachments": {},
   "cell_type": "markdown",
   "id": "1c264f78",
   "metadata": {},
   "source": [
    "Question 4: At what resolution can you roughly identify continent boundaries? What happens to the boundaries above and below this resolution? What do you infer from this? [3 pts]"
   ]
  },
  {
   "attachments": {},
   "cell_type": "markdown",
   "id": "98c1dd54",
   "metadata": {},
   "source": [
    "Question 5: What is the size of the numpy array in bytes for loading the dataset at resolutions [5, 9, 13, 17, 21], including in memory all the timesteps? [3 pts]"
   ]
  },
  {
   "attachments": {},
   "cell_type": "markdown",
   "id": "06f27606",
   "metadata": {},
   "source": [
    "Question 6: Briefly summarize your findings. What did you learn about the science? What did you learn in terms of using the tools while developing the solution of this homework? [5 pts]"
   ]
  },
  {
   "attachments": {},
   "cell_type": "markdown",
   "id": "1d6fa941",
   "metadata": {},
   "source": [
    "Part 2"
   ]
  },
  {
   "cell_type": "code",
   "execution_count": null,
   "id": "87c75a43",
   "metadata": {},
   "outputs": [],
   "source": [
    "def showData3D(data, pl=None, opacity='linear'):\n",
    "    grid = pv.UniformGrid()\n",
    "    grid.dimensions = np.array((data.shape[2], data.shape[1], data.shape[0]))\n",
    "    grid.point_data[\"values\"] = data.flatten()\n",
    "    \n",
    "    if pl == None:\n",
    "        pl = pv.Plotter()\n",
    "    else:\n",
    "        pl.clear_actors()\n",
    "    \n",
    "    actor = pl.add_volume(grid, opacity=opacity)\n",
    "    \n",
    "    pl.show(cpos=\"xz\")\n",
    "    pl.reset_camera()\n",
    "    return pl"
   ]
  },
  {
   "cell_type": "markdown",
   "id": "e41403b1",
   "metadata": {},
   "source": [
    "1.) (CODING) In your Jupyter notebook provide a cell that loads the dataset at resolution 24, timestep 15. Save the data to a binary file (using “.raw” extension). [5 pts]"
   ]
  },
  {
   "cell_type": "code",
   "execution_count": null,
   "id": "1dd15343",
   "metadata": {},
   "outputs": [],
   "source": [
    "dataset = ov.LoadDataset(\"https://atlantis.sci.utah.edu/mod_visus?dataset=borg\")\n",
    "data = dataset.read(time=15, max_resolution=24)\n",
    "# # Create a new output file\n",
    "# idxfile = ov.IdxFile(\"borg.raw\")\n",
    "\n",
    "# # Set the dimensions, data type, and layout of your data\n",
    "# idxfile.SetPointDim(dataset.getTotalNumberOfSamples())\n",
    "# idxfile.SetDataType(dataset.getBitPrecision())\n",
    "# idxfile.SetLayout(\"row_major\")\n",
    "\n",
    "# # Write your data to the output file\n",
    "# data = dataset.getField(\"myfield\").c_ptr()\n",
    "# idxfile.write(data, dataset.getTotalNumberOfSamples() * dataset.getBitPrecision() // 8)"
   ]
  },
  {
   "cell_type": "markdown",
   "id": "dc92d697",
   "metadata": {},
   "source": [
    "2.) (CODING) In your Jupyter notebook provide a cell that loads the dataset at multiple resolutions [15, 18, 21, 24], timesteps and creates an interactive visualization using pyvista. Your interface should include two sliders, (i) a slider to change resolution and (ii) a slider to change time. [5 pts]"
   ]
  },
  {
   "cell_type": "code",
   "execution_count": null,
   "id": "4c6bb4cc",
   "metadata": {},
   "outputs": [],
   "source": [
    "pl = pv.Plotter()\n",
    "interact(\n",
    "    lambda time,resolution: showData3D(dataset.read(time=time,max_resolution=resolution), pl=pl),\n",
    "    time=widgets.IntSlider(value=15,min=0,max=15,step=1), \n",
    "    resolution=widgets.IntSlider(value=24,min=5,max=24,step=1))"
   ]
  },
  {
   "cell_type": "markdown",
   "id": "9803e1ae",
   "metadata": {},
   "source": [
    "3.) (CODING) Devise an algorithm to estimate percentage thickness of the mixing layer as a function of time for resolutions [15, 18, 21, 24] using z-slices (i.e. plane orthogonal to the z-axis). Provide visualization evidence to support your result and briefly explain your findings. [10 pts]"
   ]
  },
  {
   "cell_type": "code",
   "execution_count": 63,
   "id": "e5749196",
   "metadata": {},
   "outputs": [],
   "source": [
    "def getThick(maxTime, size, dataset, resolutions=[15, 18, 21, 24], steps=[64, 32, 16, 16]):\n",
    "    results = []\n",
    "    for i in range(0, len(resolutions)):\n",
    "      resolution = resolutions[i]\n",
    "      step = steps[i]\n",
    "      list = []\n",
    "      for time in range(0, maxTime + 1): \n",
    "        thick = 0\n",
    "        for slice in range(size, 1, -step):\n",
    "          data=dataset.read(x=[0,size], y=[0,size], z=[slice-step, slice], max_resolution=resolution, time=time)\n",
    "          if np.max(data) != np.min(data):\n",
    "            thick += 1\n",
    "        layers = thick * step\n",
    "        percent = layers / size * 100\n",
    "        list.append(percent)\n",
    "      results.append(list)\n",
    "    \n",
    "    return results\n",
    "\n"
   ]
  },
  {
   "cell_type": "code",
   "execution_count": null,
   "id": "1bc365be",
   "metadata": {},
   "outputs": [],
   "source": [
    "maxTime = 15\n",
    "size = 1152\n",
    "res = getThick(maxTime, size, dataset)\n",
    "\n",
    "plt.figure()\n",
    "for i in range(len(res)):\n",
    "    plt.plot(res[i])\n",
    "plt.legend(['15', '18', '21', '24'])\n",
    "plt.show()"
   ]
  },
  {
   "cell_type": "markdown",
   "id": "b5154861",
   "metadata": {},
   "source": [
    "4.) (CODING) Devise an algorithm to estimate percentage thickness of the mixing layer as a function of time for resolutions [15, 18, 21, 24] using a (i) x-orthogonal plane in the middle of the volume, as a surrogate to the entire volume and a (ii) y-orthogonal plane in the middle of the volume, as a surrogate to the entire volume. Provide visualization evidence to support your result and briefly explain your findings. [10 pts]"
   ]
  },
  {
   "cell_type": "code",
   "execution_count": 62,
   "id": "59ba85a1",
   "metadata": {},
   "outputs": [],
   "source": [
    "def getThick2(maxTime, size, dataset, resolutions=[15, 18, 21, 24], steps=[64, 32, 16, 16]):\n",
    "    results = []\n",
    "    for i in range(0, len(resolutions)):\n",
    "      resolution = resolutions[i]\n",
    "      step = steps[i]\n",
    "      lowerBound = int((size / 2) - (step / 2))\n",
    "      upperBound = int((size / 2) + (step / 2))\n",
    "      # print(f\"lower: {lowerBound}    upper: {upperBound}    diff: {upperBound - lowerBound}\")\n",
    "      list = []\n",
    "      for time in range(0, maxTime + 1): \n",
    "        thickx = 0\n",
    "        thicky = 0\n",
    "        for slice in range(size, 1, -step):\n",
    "          datax=dataset.read(x=[lowerBound, upperBound],y=[0,1152],z=[slice-step, slice],max_resolution=resolution, time=time)\n",
    "          datay=dataset.read(x=[0,1152],y=[lowerBound, upperBound],z=[slice-step, slice],max_resolution=resolution, time=time)\n",
    "          if np.max(datax) != np.min(datax):\n",
    "           thickx += 1\n",
    "          if np.max(datay) != np.min(datay):\n",
    "           thicky += 1\n",
    "        layersx = thickx * step\n",
    "        layersy = thicky * step\n",
    "        layersAvg = (layersx + layersy) / 2\n",
    "        percent = layersAvg / size * 100\n",
    "        list.append(percent)\n",
    "      results.append(list)\n",
    "    \n",
    "    return results"
   ]
  },
  {
   "cell_type": "code",
   "execution_count": null,
   "id": "c8e0f4f3",
   "metadata": {},
   "outputs": [],
   "source": [
    "maxTime = 15\n",
    "size = 1152\n",
    "res = getThick2(maxTime, size, dataset)\n",
    "print(res)\n",
    "\n",
    "plt.figure()\n",
    "for i in range(len(res)):\n",
    "    plt.plot(res[i])\n",
    "plt.legend(['15', '18', '21', '24'])\n",
    "plt.show()"
   ]
  },
  {
   "cell_type": "markdown",
   "id": "a9d16511",
   "metadata": {},
   "source": [
    "5.)(CODING) At resolution 24, plot the magnitude of the two approximations (as functions of time) computed in coding 4 with respect to the computation in coding 3. Compare the runtimes of the algorithm in Coding 3 and Coding 4 and briefly summarize your findings. [10 pts]"
   ]
  },
  {
   "cell_type": "code",
   "execution_count": 68,
   "id": "7232302b",
   "metadata": {},
   "outputs": [],
   "source": [
    "\n",
    "maxTime = 15\n",
    "size = 1152\n",
    "res = getThick(maxTime, size, dataset, resolutions=[24], steps=[16])"
   ]
  },
  {
   "cell_type": "code",
   "execution_count": 69,
   "id": "b587669c",
   "metadata": {},
   "outputs": [],
   "source": [
    "maxTime = 15\n",
    "size = 1152\n",
    "res2 = getThick2(maxTime, size, dataset, resolutions=[24], steps=[16])"
   ]
  },
  {
   "cell_type": "code",
   "execution_count": 70,
   "id": "ead43335",
   "metadata": {},
   "outputs": [
    {
     "data": {
      "image/png": "[encoded data removed]",
      "text/plain": [
       "<Figure size 640x480 with 1 Axes>"
      ]
     },
     "metadata": {},
     "output_type": "display_data"
    }
   ],
   "source": [
    "plt.figure()\n",
    "plt.plot(res[0])\n",
    "plt.plot(res2[0])\n",
    "plt.legend(['part 3', 'part 4'])\n",
    "plt.show()"
   ]
  },
  {
   "cell_type": "markdown",
   "id": "910c222c",
   "metadata": {},
   "source": [
    "6.)(PARAVIEW) In Paraview, open the “.raw” binary file you saved in Coding 1 (using the “Image Reader” importer) and visualize it using volume rendering. Modify the transfer function to produce a visualization similar to the figure below (note the axis labels are visible). Save the resulting visualization in a png file and  the Paraview state file for this view (File-> Save State) in a pvsm file. [10 pts]"
   ]
  },
  {
   "cell_type": "markdown",
   "id": "fbecc80b",
   "metadata": {},
   "source": [
    "7.) (PARAVIEW) In Paraview, open the “.raw” binary file you saved in Coding 1 (using the “Image Reader” importer) and visualize it using volume rendering. Modify the transfer function to produce a visualization similar to the figure below (note the axis labels are visible). Save the resulting visualization in a png file and  the Paraview state file for this view (File-> Save State) in a pvsm file. [10 pts]"
   ]
  }
 ],
 "metadata": {
  "kernelspec": {
   "display_name": "Python 3 (ipykernel)",
   "language": "python",
   "name": "python3"
  },
  "language_info": {
   "codemirror_mode": {
    "name": "ipython",
    "version": 3
   },
   "file_extension": ".py",
   "mimetype": "text/x-python",
   "name": "python",
   "nbconvert_exporter": "python",
   "pygments_lexer": "ipython3",
   "version": "3.9.5"
  }
 },
 "nbformat": 4,
 "nbformat_minor": 5
}
