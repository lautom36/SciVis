{
 "cells": [
  {
   "cell_type": "markdown",
   "metadata": {},
   "source": [
    "## Exploration of large scientific dataset with OpenVisus and PyVista"
   ]
  },
  {
   "cell_type": "markdown",
   "metadata": {},
   "source": [
    "### OpenViSUS: install package\n",
    "\n",
    "To execute this jupyter notebook have to install the package \"OpenViSUS\"\n",
    "\n",
    "In conda environments you can use:\n",
    "```\n",
    "conda install -c visus OpenVisus\n",
    "python -m OpenVisus configure\n",
    "```\n",
    "Alternatively, you can install it via the Anaconda package manager after adding the \"visus\" channel to the environment.\n",
    "\n",
    "In pip envirinments you can use:\n",
    "```\n",
    "python -m pip install OpenVisus\n",
    "\n",
    "python -m OpenVisus configure\n",
    "```\n",
    "Note: ignore errors during the \"configure\" process"
   ]
  },
  {
   "cell_type": "markdown",
   "metadata": {},
   "source": [
    "### OpenViSUS: read from a remote dataset"
   ]
  },
  {
   "cell_type": "code",
   "execution_count": 1,
   "metadata": {
    "scrolled": false
   },
   "outputs": [],
   "source": [
    "%matplotlib notebook\n",
    "\n",
    "import os,sys\n",
    "\n",
    "# Here are commands to install a package (OpenVisus) directly from a jupyter notebook\n",
    "# after you install those once you can comment those comment\n",
    "# !{sys.executable} -m pip install itkwidgets\n",
    "#!{sys.executable} -m OpenVisus configure\n",
    "\n",
    "import matplotlib.pyplot as plt\n",
    "import numpy as np\n",
    "from ipywidgets import *\n",
    "import pyvista as pv\n",
    "\n",
    "import OpenVisus as ov\n",
    "\n",
    "# Enable I/O component of OpenVisus\n",
    "ov.DbModule.attach()"
   ]
  },
  {
   "cell_type": "code",
   "execution_count": 2,
   "metadata": {},
   "outputs": [],
   "source": [
    "#function to plot the image data with matplotlib\n",
    "#optional parameters: colormap, existing plot to reuse (for more interactivity)\n",
    "def showData2D(data, cmap=None, plot=None):\n",
    "    if len(data.shape)==3 and data.shape[0]==1: data=data[0,:,:]\n",
    "    if len(data.shape)==3 and data.shape[1]==1: data=data[:,0,:]   \n",
    "    if len(data.shape)==3 and data.shape[2]==1: data=data[:,:,0]\n",
    "    if(plot==None or cmap!=None):\n",
    "        fig=plt.figure(figsize = (7,5))\n",
    "        plot = plt.imshow(data, origin='lower', cmap=cmap)\n",
    "        plt.show()\n",
    "        return plot\n",
    "    else:\n",
    "        plot.set_data(data)\n",
    "        plt.show()\n",
    "        return plot\n",
    "\n",
    "def showData(data, cmap=None, pl=None, opacity='linear'):\n",
    "    \n",
    "    data = pv.wrap(data)\n",
    "    if pl == None:\n",
    "        pl = pv.Plotter()\n",
    "    #     pl.clear_actors()\n",
    "        actor = pl.add_mesh(data, cmap=cmap, opacity=opacity)\n",
    "        pl.show()\n",
    "        return pl\n",
    "    else:\n",
    "        pl.clear_actors()\n",
    "        actor = pl.add_mesh(data, cmap=cmap, opacity=opacity)\n",
    "        pl.show()\n",
    "        return pl\n",
    "#     if len(data.shape)==3 and data.shape[0]==1: data=data[0,:,:]\n",
    "#     if len(data.shape)==3 and data.shape[1]==1: data=data[:,0,:]   \n",
    "#     if len(data.shape)==3 and data.shape[2]==1: data=data[:,:,0]\n",
    "#     if(plot==None or cmap!=None):\n",
    "#         fig=plt.figure(figsize = (7,5))\n",
    "#         plot = plt.imshow(data, origin='lower', cmap=cmap)\n",
    "#         plt.show()\n",
    "#         return plot\n",
    "#     else:\n",
    "#         plot.set_data(data)\n",
    "#         plt.show()\n",
    "#         return plot\n",
    "    "
   ]
  },
  {
   "cell_type": "markdown",
   "metadata": {},
   "source": [
    "### Navigate time and resolution"
   ]
  },
  {
   "cell_type": "code",
   "execution_count": 3,
   "metadata": {
    "scrolled": true
   },
   "outputs": [
    {
     "name": "stdout",
     "output_type": "stream",
     "text": [
      "<dataset url=\"https://atlantis.sci.utah.edu/mod_visus?dataset=BlueMarble\" cache_dir=\"\" typename=\"IdxDataset\">\n",
      "\t<idxfile>\n",
      "\t\t<version value=\"6\" />\n",
      "\t\t<bitmask value=\"V001010101010101010101010101010101\" />\n",
      "\t\t<box value=\"0 86400 0 43200\" />\n",
      "\t\t<bitsperblock value=\"16\" />\n",
      "\t\t<blocksperfile value=\"256\" />\n",
      "\t\t<block_interleaving value=\"0\" />\n",
      "\t\t<filename_template value=\"./bluemarble-compressed/%02x/%04x.bin\" />\n",
      "\t\t<missing_blocks value=\"False\" />\n",
      "\t\t<arco value=\"0\" />\n",
      "\t\t<time_template value=\"time%02d/\" />\n",
      "\t\t<physic_box value=\"0 5760 0 2881\" />\n",
      "\t\t<field name=\"data\" description=\"\" index=\"\" default_compression=\"zip\" default_layout=\"\" default_value=\"0\" filter=\"\" dtype=\"uint8[3]\" />\n",
      "\t\t<timestep from=\"0\" to=\"11\" step=\"1\" />\n",
      "\t</idxfile>\n",
      "</dataset>\n"
     ]
    }
   ],
   "source": [
    "# select a remote dataset (satellite imagery from NASA)\n",
    "dataset=ov.LoadDataset(\"https://atlantis.sci.utah.edu/mod_visus?dataset=BlueMarble\")\n",
    "# this doesn't actually fetch any data, only metadata\n",
    "\n",
    "# what is the size of this dataset ?\n",
    "# the logic box contains the extent of the dataset on the different axis\n",
    "#dataset.getLogicBox().toString()\n",
    "print(dataset.getDatasetBody().toString())"
   ]
  },
  {
   "cell_type": "code",
   "execution_count": 4,
   "metadata": {
    "scrolled": true
   },
   "outputs": [
    {
     "data": {
      "text/plain": [
       "33"
      ]
     },
     "execution_count": 4,
     "metadata": {},
     "output_type": "execute_result"
    }
   ],
   "source": [
    "# what is the maximum resolution ? \n",
    "# NOTE: don't use large values of the resolution for large query (you will be fetching too much data)\n",
    "dataset.getMaxResolution()"
   ]
  },
  {
   "cell_type": "code",
   "execution_count": 5,
   "metadata": {
    "scrolled": false
   },
   "outputs": [
    {
     "data": {
      "text/plain": [
       "(675, 1350, 3)"
      ]
     },
     "execution_count": 5,
     "metadata": {},
     "output_type": "execute_result"
    }
   ],
   "source": [
    "# function to read data from a remote dataset\n",
    "# optional parameters: timestep, field (variable in the dataset), logic_box (bounding box of the query), resolution\n",
    "\n",
    "# Note: the resolution value could sometime fetch a dataset with the wrong aspect ratio, \n",
    "# this because in the IDX format we double the size at each resolution on only one of the axis at a time\n",
    "\n",
    "data = dataset.read(time=0, max_resolution=21)\n",
    "data.shape\n",
    "# data = pv.wrap(data)\n",
    "# data.n_cells"
   ]
  },
  {
   "cell_type": "code",
   "execution_count": 6,
   "metadata": {},
   "outputs": [
    {
     "data": {
      "application/vnd.jupyter.widget-view+json": {
       "model_id": "c3cd3a789f9c438d8309245c4324e44a",
       "version_major": 2,
       "version_minor": 0
      },
      "text/plain": [
       "interactive(children=(IntSlider(value=0, description='time', max=11), IntSlider(value=9, description='resoluti…"
      ]
     },
     "metadata": {},
     "output_type": "display_data"
    },
    {
     "data": {
      "text/plain": [
       "<function __main__.<lambda>(time, resolution)>"
      ]
     },
     "execution_count": 6,
     "metadata": {},
     "output_type": "execute_result"
    }
   ],
   "source": [
    "# Plot the 2D image using matplotlib with different time and resolutions\n",
    "\n",
    "interact(\n",
    "    lambda time,resolution: showData2D(dataset.read(time=time,max_resolution=resolution)),\n",
    "    time=widgets.IntSlider(value=0,min=0,max=11,step=1), \n",
    "    resolution=widgets.IntSlider(value=9,min=1,max=21,step=2))"
   ]
  },
  {
   "cell_type": "code",
   "execution_count": 7,
   "metadata": {
    "scrolled": false
   },
   "outputs": [
    {
     "data": {
      "application/vnd.jupyter.widget-view+json": {
       "model_id": "e9dad30217fb45dba07698e6698ad2c4",
       "version_major": 2,
       "version_minor": 0
      },
      "text/plain": [
       "Widget(value=\"<iframe src='http://localhost:60933/index.html?ui=P_0x150be623880_0&reconnect=auto' style='width…"
      ]
     },
     "metadata": {},
     "output_type": "display_data"
    }
   ],
   "source": [
    "# Create the spatial reference\n",
    "grid = pv.UniformGrid()\n",
    "\n",
    "# Set the grid dimensions: shape + 1 because we want to inject our values on\n",
    "#   the CELL data\n",
    "grid.dimensions = np.array((data.shape[1], data.shape[0], 1))\n",
    "# print(grid.dimensions, grid.n_cells)\n",
    "\n",
    "# Edit the spatial reference\n",
    "#grid.origin = (100, 33, 55.6)  # The bottom left corner of the data set\n",
    "#grid.spacing = (1, 5, 2)  # These are the cell sizes along each axis\n",
    "\n",
    "# Add the data values to the cell data\n",
    "grid.point_data[\"values\"] = data.reshape(-1, data.shape[-1]) # Flatten the array!\n",
    "\n",
    "# grid\n",
    "# Now plot the grid!\n",
    "grid.plot(rgb=True, cpos=\"xy\")"
   ]
  },
  {
   "cell_type": "code",
   "execution_count": 8,
   "metadata": {},
   "outputs": [],
   "source": [
    "def show_data(data, pl=None):\n",
    "    grid = pv.UniformGrid()\n",
    "    grid.dimensions = np.array((data.shape[1], data.shape[0], 1))\n",
    "    grid.point_data[\"values\"] = data.reshape(-1, data.shape[-1])\n",
    "    \n",
    "    if pl == None:\n",
    "        pl = pv.Plotter()\n",
    "    else:\n",
    "        pl.clear_actors()\n",
    "    \n",
    "    actor = pl.add_mesh(grid, rgb=True)\n",
    "    \n",
    "    pl.show(cpos=\"xy\")\n",
    "    pl.reset_camera()\n",
    "    return pl"
   ]
  },
  {
   "cell_type": "code",
   "execution_count": 9,
   "metadata": {
    "scrolled": false
   },
   "outputs": [
    {
     "data": {
      "application/vnd.jupyter.widget-view+json": {
       "model_id": "168326f104d743fba2b5cb9fcb012195",
       "version_major": 2,
       "version_minor": 0
      },
      "text/plain": [
       "interactive(children=(IntSlider(value=0, description='time', max=11), IntSlider(value=9, description='resoluti…"
      ]
     },
     "metadata": {},
     "output_type": "display_data"
    },
    {
     "data": {
      "text/plain": [
       "<function __main__.<lambda>(time, resolution)>"
      ]
     },
     "execution_count": 9,
     "metadata": {},
     "output_type": "execute_result"
    }
   ],
   "source": [
    "# create a plot for our data\n",
    "# myplot = show_data(dataset.read(time=0, max_resolution=21))\n",
    "pl = pv.Plotter()\n",
    "# reuse the plot with an interact for varying time and resolution values\n",
    "interact(\n",
    "    lambda time,resolution: show_data(dataset.read(time=time,max_resolution=resolution), pl=pl),\n",
    "    time=widgets.IntSlider(value=0,min=0,max=11,step=1), \n",
    "    resolution=widgets.IntSlider(value=9,min=1,max=21,step=2))"
   ]
  },
  {
   "cell_type": "markdown",
   "metadata": {},
   "source": [
    "### Interactive analysis"
   ]
  },
  {
   "cell_type": "code",
   "execution_count": 10,
   "metadata": {
    "scrolled": false
   },
   "outputs": [
    {
     "name": "stdout",
     "output_type": "stream",
     "text": [
      "<dataset url=\"https://atlantis.sci.utah.edu/mod_visus?dataset=neon_redb\" cache_dir=\"\" typename=\"IdxDataset\">\n",
      "\t<idxfile>\n",
      "\t\t<version value=\"6\" />\n",
      "\t\t<bitmask value=\"V0101010101010101010101010101010101\" />\n",
      "\t\t<box value=\"0 80000 0 100000\" />\n",
      "\t\t<bitsperblock value=\"16\" />\n",
      "\t\t<blocksperfile value=\"512\" />\n",
      "\t\t<block_interleaving value=\"0\" />\n",
      "\t\t<filename_template value=\"./2017_REDB_1/%02x/%04x.bin\" />\n",
      "\t\t<missing_blocks value=\"False\" />\n",
      "\t\t<arco value=\"0\" />\n",
      "\t\t<time_template value=\"\" />\n",
      "\t\t<field name=\"DATA\" description=\"\" index=\"\" default_compression=\"\" default_layout=\"\" default_value=\"0\" filter=\"\" dtype=\"uint8[3]\" />\n",
      "\t\t<timestep when=\"0\" />\n",
      "\t</idxfile>\n",
      "</dataset> 34\n"
     ]
    }
   ],
   "source": [
    "# Open an aerial dataset from the National Ecology Observatory Network \n",
    "dataset=ov.LoadDataset(\"https://atlantis.sci.utah.edu/mod_visus?dataset=neon_redb\")\n",
    "print(dataset.getDatasetBody().toString(), dataset.getMaxResolution())"
   ]
  },
  {
   "cell_type": "code",
   "execution_count": 11,
   "metadata": {
    "scrolled": false
   },
   "outputs": [
    {
     "data": {
      "application/vnd.jupyter.widget-view+json": {
       "model_id": "bd5bbc4ea17144d7af75fe8234f70a22",
       "version_major": 2,
       "version_minor": 0
      },
      "text/plain": [
       "Widget(value=\"<iframe src='http://localhost:60933/index.html?ui=P_0x150be5efa90_2&reconnect=auto' style='width…"
      ]
     },
     "metadata": {},
     "output_type": "display_data"
    }
   ],
   "source": [
    "data = dataset.read(max_resolution=22)\n",
    "# showData(data)\n",
    "\n",
    "grid = pv.UniformGrid()\n",
    "grid.dimensions = np.array((data.shape[1], data.shape[0], 1))\n",
    "grid.point_data[\"values\"] = data.reshape(-1, data.shape[-1])\n",
    "grid.plot(rgb=True, cpos=\"xy\")"
   ]
  },
  {
   "cell_type": "code",
   "execution_count": 12,
   "metadata": {
    "scrolled": true
   },
   "outputs": [
    {
     "data": {
      "text/plain": [
       "'DATA'"
      ]
     },
     "execution_count": 12,
     "metadata": {},
     "output_type": "execute_result"
    }
   ],
   "source": [
    "# what's the name of the field we are looking at?\n",
    "dataset.getField().name"
   ]
  },
  {
   "cell_type": "code",
   "execution_count": 13,
   "metadata": {
    "scrolled": true
   },
   "outputs": [
    {
     "data": {
      "text/plain": [
       "''"
      ]
     },
     "execution_count": 13,
     "metadata": {},
     "output_type": "execute_result"
    }
   ],
   "source": [
    "# what's the datatype fo this field?\n",
    "dataset.getField('DATA').dtype.toString()"
   ]
  },
  {
   "cell_type": "code",
   "execution_count": 14,
   "metadata": {},
   "outputs": [
    {
     "data": {
      "text/plain": [
       "(1563, 1250, 3)"
      ]
     },
     "execution_count": 14,
     "metadata": {},
     "output_type": "execute_result"
    }
   ],
   "source": [
    "# what's the size of the data fetched? (note: there are three channels, RGB)\n",
    "data.shape"
   ]
  },
  {
   "cell_type": "code",
   "execution_count": 15,
   "metadata": {},
   "outputs": [
    {
     "name": "stdout",
     "output_type": "stream",
     "text": [
      "[[[0.]\n",
      "  [0.]\n",
      "  [0.]\n",
      "  ...\n",
      "  [0.]\n",
      "  [0.]\n",
      "  [0.]]\n",
      "\n",
      " [[0.]\n",
      "  [0.]\n",
      "  [0.]\n",
      "  ...\n",
      "  [0.]\n",
      "  [0.]\n",
      "  [0.]]\n",
      "\n",
      " [[0.]\n",
      "  [0.]\n",
      "  [0.]\n",
      "  ...\n",
      "  [0.]\n",
      "  [0.]\n",
      "  [0.]]\n",
      "\n",
      " ...\n",
      "\n",
      " [[0.]\n",
      "  [0.]\n",
      "  [0.]\n",
      "  ...\n",
      "  [0.]\n",
      "  [0.]\n",
      "  [0.]]\n",
      "\n",
      " [[0.]\n",
      "  [0.]\n",
      "  [0.]\n",
      "  ...\n",
      "  [0.]\n",
      "  [0.]\n",
      "  [0.]]\n",
      "\n",
      " [[0.]\n",
      "  [0.]\n",
      "  [0.]\n",
      "  ...\n",
      "  [0.]\n",
      "  [0.]\n",
      "  [0.]]]\n",
      "<class 'numpy.ndarray'>\n"
     ]
    }
   ],
   "source": [
    "# make a \"grey scale\" version of the data\n",
    "# from Matlab \"rgb2gray\" 0.2989 * R + 0.5870 * G + 0.1140 * B (standard ITU-R BT.601-7)\n",
    "\n",
    "R,G,B=(0.2989*data[:,:,0], 0.5870*data[:,:,1], 0.1140*data[:,:,2])\n",
    "grey_data=R+G+B\n",
    "grey_data = np.reshape(grey_data, (1563, 1250, 1))\n",
    "print(grey_data)\n",
    "print(type(grey_data))"
   ]
  },
  {
   "cell_type": "code",
   "execution_count": 16,
   "metadata": {
    "scrolled": true
   },
   "outputs": [
    {
     "data": {
      "text/html": [
       "<table><tr><th>Header</th><th>Data Arrays</th></tr><tr><td>\n",
       "<table>\n",
       "<tr><th>UniformGrid</th><th>Information</th></tr>\n",
       "<tr><td>N Cells</td><td>1950938</td></tr>\n",
       "<tr><td>N Points</td><td>1953750</td></tr>\n",
       "<tr><td>X Bounds</td><td>0.000e+00, 1.562e+03</td></tr>\n",
       "<tr><td>Y Bounds</td><td>0.000e+00, 1.249e+03</td></tr>\n",
       "<tr><td>Z Bounds</td><td>0.000e+00, 0.000e+00</td></tr>\n",
       "<tr><td>Dimensions</td><td>1563, 1250, 1</td></tr>\n",
       "<tr><td>Spacing</td><td>1.000e+00, 1.000e+00, 1.000e+00</td></tr>\n",
       "<tr><td>N Arrays</td><td>1</td></tr>\n",
       "</table>\n",
       "\n",
       "</td><td>\n",
       "<table>\n",
       "<tr><th>Name</th><th>Field</th><th>Type</th><th>N Comp</th><th>Min</th><th>Max</th></tr>\n",
       "<tr><td><b>values</b></td><td>Points</td><td>float64</td><td>1</td><td>0.000e+00</td><td>2.550e+02</td></tr>\n",
       "</table>\n",
       "\n",
       "</td></tr> </table>"
      ],
      "text/plain": [
       "UniformGrid (0x150c0451a00)\n",
       "  N Cells:      1950938\n",
       "  N Points:     1953750\n",
       "  X Bounds:     0.000e+00, 1.562e+03\n",
       "  Y Bounds:     0.000e+00, 1.249e+03\n",
       "  Z Bounds:     0.000e+00, 0.000e+00\n",
       "  Dimensions:   1563, 1250, 1\n",
       "  Spacing:      1.000e+00, 1.000e+00, 1.000e+00\n",
       "  N Arrays:     1"
      ]
     },
     "execution_count": 16,
     "metadata": {},
     "output_type": "execute_result"
    }
   ],
   "source": [
    "pv.wrap(grey_data)"
   ]
  },
  {
   "cell_type": "code",
   "execution_count": 17,
   "metadata": {
    "scrolled": false
   },
   "outputs": [
    {
     "data": {
      "application/vnd.jupyter.widget-view+json": {
       "model_id": "f7f099714bc941c79121cd37187adf6e",
       "version_major": 2,
       "version_minor": 0
      },
      "text/plain": [
       "Widget(value=\"<iframe src='http://localhost:60933/index.html?ui=P_0x150c03e61f0_3&reconnect=auto' style='width…"
      ]
     },
     "metadata": {},
     "output_type": "display_data"
    },
    {
     "data": {
      "text/plain": [
       "<pyvista.plotting.plotting.Plotter at 0x150c03e61f0>"
      ]
     },
     "execution_count": 17,
     "metadata": {},
     "output_type": "execute_result"
    }
   ],
   "source": [
    "# show data using a grey scale colormap\n",
    "showData(grey_data, cmap=plt.get_cmap(\"Greys\"))"
   ]
  },
  {
   "cell_type": "code",
   "execution_count": 20,
   "metadata": {},
   "outputs": [],
   "source": [
    "# make a threshold function to show which \"pixel\" is above a certain values\n",
    "def threshold(data, t):\n",
    "    return data > t"
   ]
  },
  {
   "cell_type": "code",
   "execution_count": 23,
   "metadata": {
    "scrolled": false
   },
   "outputs": [
    {
     "name": "stdout",
     "output_type": "stream",
     "text": [
      "<class 'numpy.ndarray'>\n",
      "[[[False]\n",
      "  [False]\n",
      "  [False]\n",
      "  ...\n",
      "  [False]\n",
      "  [False]\n",
      "  [False]]\n",
      "\n",
      " [[False]\n",
      "  [False]\n",
      "  [False]\n",
      "  ...\n",
      "  [False]\n",
      "  [False]\n",
      "  [False]]\n",
      "\n",
      " [[False]\n",
      "  [False]\n",
      "  [False]\n",
      "  ...\n",
      "  [False]\n",
      "  [False]\n",
      "  [False]]\n",
      "\n",
      " ...\n",
      "\n",
      " [[False]\n",
      "  [False]\n",
      "  [False]\n",
      "  ...\n",
      "  [False]\n",
      "  [False]\n",
      "  [False]]\n",
      "\n",
      " [[False]\n",
      "  [False]\n",
      "  [False]\n",
      "  ...\n",
      "  [False]\n",
      "  [False]\n",
      "  [False]]\n",
      "\n",
      " [[False]\n",
      "  [False]\n",
      "  [False]\n",
      "  ...\n",
      "  [False]\n",
      "  [False]\n",
      "  [False]]]\n",
      "<class 'numpy.ndarray'>\n"
     ]
    },
    {
     "ename": "RuntimeError",
     "evalue": "Transfer function cannot have more values than `n_colors`. This has 256 elements",
     "output_type": "error",
     "traceback": [
      "\u001b[1;31m---------------------------------------------------------------------------\u001b[0m",
      "\u001b[1;31mRuntimeError\u001b[0m                              Traceback (most recent call last)",
      "\u001b[1;32mc:\\Users\\lauto\\Downloads\\OpenVisus-Tutorial.ipynb Cell 24\u001b[0m in \u001b[0;36m3\n\u001b[0;32m      <a href='vscode-notebook-cell:/c%3A/Users/lauto/Downloads/OpenVisus-Tutorial.ipynb#X32sZmlsZQ%3D%3D?line=0'>1</a>\u001b[0m test \u001b[39m=\u001b[39m threshold(grey_data, \u001b[39m200\u001b[39m)\n\u001b[0;32m      <a href='vscode-notebook-cell:/c%3A/Users/lauto/Downloads/OpenVisus-Tutorial.ipynb#X32sZmlsZQ%3D%3D?line=1'>2</a>\u001b[0m \u001b[39mprint\u001b[39m(test)\n\u001b[1;32m----> <a href='vscode-notebook-cell:/c%3A/Users/lauto/Downloads/OpenVisus-Tutorial.ipynb#X32sZmlsZQ%3D%3D?line=2'>3</a>\u001b[0m showData(threshold(grey_data, \u001b[39m200\u001b[39;49m), cmap\u001b[39m=\u001b[39;49mplt\u001b[39m.\u001b[39;49mget_cmap(\u001b[39m\"\u001b[39;49m\u001b[39mGreys\u001b[39;49m\u001b[39m\"\u001b[39;49m))\n",
      "\u001b[1;32mc:\\Users\\lauto\\Downloads\\OpenVisus-Tutorial.ipynb Cell 24\u001b[0m in \u001b[0;36m2\n\u001b[0;32m     <a href='vscode-notebook-cell:/c%3A/Users/lauto/Downloads/OpenVisus-Tutorial.ipynb#X32sZmlsZQ%3D%3D?line=20'>21</a>\u001b[0m     pl \u001b[39m=\u001b[39m pv\u001b[39m.\u001b[39mPlotter()\n\u001b[0;32m     <a href='vscode-notebook-cell:/c%3A/Users/lauto/Downloads/OpenVisus-Tutorial.ipynb#X32sZmlsZQ%3D%3D?line=21'>22</a>\u001b[0m \u001b[39m#     pl.clear_actors()\u001b[39;00m\n\u001b[1;32m---> <a href='vscode-notebook-cell:/c%3A/Users/lauto/Downloads/OpenVisus-Tutorial.ipynb#X32sZmlsZQ%3D%3D?line=22'>23</a>\u001b[0m     actor \u001b[39m=\u001b[39m pl\u001b[39m.\u001b[39;49madd_mesh(data, cmap\u001b[39m=\u001b[39;49mcmap, opacity\u001b[39m=\u001b[39;49mopacity)\n\u001b[0;32m     <a href='vscode-notebook-cell:/c%3A/Users/lauto/Downloads/OpenVisus-Tutorial.ipynb#X32sZmlsZQ%3D%3D?line=23'>24</a>\u001b[0m     pl\u001b[39m.\u001b[39mshow()\n\u001b[0;32m     <a href='vscode-notebook-cell:/c%3A/Users/lauto/Downloads/OpenVisus-Tutorial.ipynb#X32sZmlsZQ%3D%3D?line=24'>25</a>\u001b[0m     \u001b[39mreturn\u001b[39;00m pl\n",
      "File \u001b[1;32mc:\\Users\\lauto\\AppData\\Local\\Programs\\Python\\Python39\\lib\\site-packages\\pyvista\\plotting\\plotting.py:3391\u001b[0m, in \u001b[0;36mBasePlotter.add_mesh\u001b[1;34m(self, mesh, color, style, scalars, clim, show_edges, edge_color, point_size, line_width, opacity, flip_scalars, lighting, n_colors, interpolate_before_map, cmap, label, reset_camera, scalar_bar_args, show_scalar_bar, multi_colors, name, texture, render_points_as_spheres, render_lines_as_tubes, smooth_shading, split_sharp_edges, ambient, diffuse, specular, specular_power, nan_color, nan_opacity, culling, rgb, categories, silhouette, use_transparency, below_color, above_color, annotations, pickable, preference, log_scale, pbr, metallic, roughness, render, component, emissive, copy_mesh, backface_params, show_vertices, **kwargs)\u001b[0m\n\u001b[0;32m   3389\u001b[0m \u001b[39m# Scalars formatting ==================================================\u001b[39;00m\n\u001b[0;32m   3390\u001b[0m \u001b[39mif\u001b[39;00m scalars \u001b[39mis\u001b[39;00m \u001b[39mnot\u001b[39;00m \u001b[39mNone\u001b[39;00m:\n\u001b[1;32m-> 3391\u001b[0m     \u001b[39mself\u001b[39;49m\u001b[39m.\u001b[39;49mmapper\u001b[39m.\u001b[39;49mset_scalars(\n\u001b[0;32m   3392\u001b[0m         scalars,\n\u001b[0;32m   3393\u001b[0m         scalars_name,\n\u001b[0;32m   3394\u001b[0m         n_colors,\n\u001b[0;32m   3395\u001b[0m         scalar_bar_args,\n\u001b[0;32m   3396\u001b[0m         rgb,\n\u001b[0;32m   3397\u001b[0m         component,\n\u001b[0;32m   3398\u001b[0m         preference,\n\u001b[0;32m   3399\u001b[0m         custom_opac,\n\u001b[0;32m   3400\u001b[0m         annotations,\n\u001b[0;32m   3401\u001b[0m         log_scale,\n\u001b[0;32m   3402\u001b[0m         nan_color,\n\u001b[0;32m   3403\u001b[0m         above_color,\n\u001b[0;32m   3404\u001b[0m         below_color,\n\u001b[0;32m   3405\u001b[0m         cmap,\n\u001b[0;32m   3406\u001b[0m         flip_scalars,\n\u001b[0;32m   3407\u001b[0m         opacity,\n\u001b[0;32m   3408\u001b[0m         categories,\n\u001b[0;32m   3409\u001b[0m         clim,\n\u001b[0;32m   3410\u001b[0m     )\n\u001b[0;32m   3411\u001b[0m     \u001b[39mself\u001b[39m\u001b[39m.\u001b[39mmapper\u001b[39m.\u001b[39mscalar_visibility \u001b[39m=\u001b[39m \u001b[39mTrue\u001b[39;00m\n\u001b[0;32m   3412\u001b[0m \u001b[39melif\u001b[39;00m custom_opac:  \u001b[39m# no scalars but custom opacity\u001b[39;00m\n",
      "File \u001b[1;32mc:\\Users\\lauto\\AppData\\Local\\Programs\\Python\\Python39\\lib\\site-packages\\pyvista\\plotting\\mapper.py:706\u001b[0m, in \u001b[0;36mDataSetMapper.set_scalars\u001b[1;34m(self, scalars, scalars_name, n_colors, scalar_bar_args, rgb, component, preference, custom_opac, annotations, log_scale, nan_color, above_color, below_color, cmap, flip_scalars, opacity, categories, clim)\u001b[0m\n\u001b[0;32m    704\u001b[0m \u001b[39m# Set opactities\u001b[39;00m\n\u001b[0;32m    705\u001b[0m \u001b[39mif\u001b[39;00m \u001b[39misinstance\u001b[39m(opacity, np\u001b[39m.\u001b[39mndarray) \u001b[39mand\u001b[39;00m \u001b[39mnot\u001b[39;00m custom_opac:\n\u001b[1;32m--> 706\u001b[0m     \u001b[39mself\u001b[39;49m\u001b[39m.\u001b[39;49mlookup_table\u001b[39m.\u001b[39;49mapply_opacity(opacity)\n\u001b[0;32m    708\u001b[0m \u001b[39mif\u001b[39;00m flip_scalars:\n\u001b[0;32m    709\u001b[0m     \u001b[39mself\u001b[39m\u001b[39m.\u001b[39mlookup_table\u001b[39m.\u001b[39mvalues[:] \u001b[39m=\u001b[39m \u001b[39mself\u001b[39m\u001b[39m.\u001b[39mlookup_table\u001b[39m.\u001b[39mvalues[::\u001b[39m-\u001b[39m\u001b[39m1\u001b[39m]\n",
      "File \u001b[1;32mc:\\Users\\lauto\\AppData\\Local\\Programs\\Python\\Python39\\lib\\site-packages\\pyvista\\plotting\\lookup_table.py:832\u001b[0m, in \u001b[0;36mLookupTable.apply_opacity\u001b[1;34m(self, opacity, interpolate, kind)\u001b[0m\n\u001b[0;32m    830\u001b[0m     \u001b[39mself\u001b[39m\u001b[39m.\u001b[39mvalues[:, \u001b[39m-\u001b[39m\u001b[39m1\u001b[39m] \u001b[39m=\u001b[39m np\u001b[39m.\u001b[39marray(opacity)\n\u001b[0;32m    831\u001b[0m \u001b[39melse\u001b[39;00m:\n\u001b[1;32m--> 832\u001b[0m     \u001b[39mself\u001b[39m\u001b[39m.\u001b[39mvalues[:, \u001b[39m-\u001b[39m\u001b[39m1\u001b[39m] \u001b[39m=\u001b[39m opacity_transfer_function(\n\u001b[0;32m    833\u001b[0m         opacity, \u001b[39mself\u001b[39;49m\u001b[39m.\u001b[39;49mn_values, interpolate\u001b[39m=\u001b[39;49minterpolate, kind\u001b[39m=\u001b[39;49mkind\n\u001b[0;32m    834\u001b[0m     )\n\u001b[0;32m    835\u001b[0m \u001b[39mself\u001b[39m\u001b[39m.\u001b[39m_opacity_parm \u001b[39m=\u001b[39m (opacity, interpolate, kind)\n",
      "File \u001b[1;32mc:\\Users\\lauto\\AppData\\Local\\Programs\\Python\\Python39\\lib\\site-packages\\pyvista\\plotting\\tools.py:554\u001b[0m, in \u001b[0;36mopacity_transfer_function\u001b[1;34m(mapping, n_colors, interpolate, kind)\u001b[0m\n\u001b[0;32m    552\u001b[0m             mapping \u001b[39m=\u001b[39m (np\u001b[39m.\u001b[39minterp(xx, xo, mapping) \u001b[39m*\u001b[39m \u001b[39m255\u001b[39m)\u001b[39m.\u001b[39mastype(np\u001b[39m.\u001b[39muint8)\n\u001b[0;32m    553\u001b[0m     \u001b[39melse\u001b[39;00m:\n\u001b[1;32m--> 554\u001b[0m         \u001b[39mraise\u001b[39;00m \u001b[39mRuntimeError\u001b[39;00m(\n\u001b[0;32m    555\u001b[0m             \u001b[39mf\u001b[39m\u001b[39m'\u001b[39m\u001b[39mTransfer function cannot have more values than `n_colors`. This has \u001b[39m\u001b[39m{\u001b[39;00mmapping\u001b[39m.\u001b[39msize\u001b[39m}\u001b[39;00m\u001b[39m elements\u001b[39m\u001b[39m'\u001b[39m\n\u001b[0;32m    556\u001b[0m         )\n\u001b[0;32m    557\u001b[0m     \u001b[39mreturn\u001b[39;00m mapping\n\u001b[0;32m    558\u001b[0m \u001b[39mraise\u001b[39;00m \u001b[39mTypeError\u001b[39;00m(\u001b[39mf\u001b[39m\u001b[39m'\u001b[39m\u001b[39mTransfer function type (\u001b[39m\u001b[39m{\u001b[39;00m\u001b[39mtype\u001b[39m(mapping)\u001b[39m}\u001b[39;00m\u001b[39m) not understood\u001b[39m\u001b[39m'\u001b[39m)\n",
      "\u001b[1;31mRuntimeError\u001b[0m: Transfer function cannot have more values than `n_colors`. This has 256 elements"
     ]
    }
   ],
   "source": [
    "test = threshold(grey_data, 200)\n",
    "print(test)\n",
    "showData(threshold(grey_data, 200), cmap=plt.get_cmap(\"Greys\"))"
   ]
  },
  {
   "cell_type": "code",
   "execution_count": null,
   "metadata": {
    "scrolled": false
   },
   "outputs": [
    {
     "data": {
      "application/vnd.jupyter.widget-view+json": {
       "model_id": "f49577bff21349bf90659df7fe9b4aea",
       "version_major": 2,
       "version_minor": 0
      },
      "text/plain": [
       "interactive(children=(IntSlider(value=96, description='thr', max=254), Output()), _dom_classes=('widget-intera…"
      ]
     },
     "metadata": {},
     "output_type": "display_data"
    },
    {
     "data": {
      "text/plain": [
       "<function __main__.<lambda>(thr)>"
      ]
     },
     "execution_count": 13,
     "metadata": {},
     "output_type": "execute_result"
    }
   ],
   "source": [
    "# make the threshold exploration interactive\n",
    "# myplot = showData(threshold(grey_data,t=150))\n",
    "pl = pv.Plotter()\n",
    "interact(\n",
    "    lambda thr: showData(threshold(grey_data,t=thr), cmap=plt.get_cmap(\"Greys\"), pl=pl),\n",
    "    thr=widgets.IntSlider(value=np.mean(grey_data),min=np.min(grey_data),max=np.max(grey_data),step=1))"
   ]
  },
  {
   "cell_type": "markdown",
   "metadata": {},
   "source": [
    "### Working with 3D dataset"
   ]
  },
  {
   "cell_type": "code",
   "execution_count": null,
   "metadata": {},
   "outputs": [
    {
     "data": {
      "application/vnd.jupyter.widget-view+json": {
       "model_id": "85620a87ab424b23aef558fde66076e7",
       "version_major": 2,
       "version_minor": 0
      },
      "text/plain": [
       "ViewInteractiveWidget(height=768, layout=Layout(height='auto', width='100%'), width=1024)"
      ]
     },
     "metadata": {},
     "output_type": "display_data"
    },
    {
     "data": {
      "text/plain": [
       "<pyvista.plotting.plotting.Plotter at 0x15cb2cb20>"
      ]
     },
     "execution_count": 22,
     "metadata": {},
     "output_type": "execute_result"
    }
   ],
   "source": [
    "dataset=ov.LoadDataset(\"https://atlantis.sci.utah.edu/mod_visus?dataset=borg\")\n",
    "data = dataset.read(time=10, max_resolution=24)\n",
    "showData(data, opacity=[0.2,0.8,1.0])"
   ]
  },
  {
   "cell_type": "code",
   "execution_count": null,
   "metadata": {
    "scrolled": false
   },
   "outputs": [
    {
     "name": "stdout",
     "output_type": "stream",
     "text": [
      "<dataset url=\"https://atlantis.sci.utah.edu/mod_visus?dataset=2kbit1\" typename=\"IdxDataset\">\n",
      "\t<idxfile>\n",
      "\t\t<version value=\"6\" />\n",
      "\t\t<bitmask value=\"V012012012012012012012012012012012\" />\n",
      "\t\t<box value=\"0 2048 0 2048 0 2048\" />\n",
      "\t\t<bitsperblock value=\"16\" />\n",
      "\t\t<blocksperfile value=\"256\" />\n",
      "\t\t<block_interleaving value=\"0\" />\n",
      "\t\t<filename_template value=\"./visus/%02x/%04x.bin\" />\n",
      "\t\t<missing_blocks value=\"False\" />\n",
      "\t\t<arco value=\"0\" />\n",
      "\t\t<time_template value=\"\" />\n",
      "\t\t<field name=\"DATA\" description=\"\" index=\"\" default_compression=\"zip\" default_layout=\"hzorder\" default_value=\"0\" filter=\"\" dtype=\"uint8\" />\n",
      "\t\t<timestep when=\"0\" />\n",
      "\t</idxfile>\n",
      "</dataset>\n"
     ]
    }
   ],
   "source": [
    "dataset=ov.LoadDataset(\"https://atlantis.sci.utah.edu/mod_visus?dataset=2kbit1\")\n",
    "# how big is the dataset ?\n",
    "print(dataset.getDatasetBody().toString())"
   ]
  },
  {
   "cell_type": "code",
   "execution_count": null,
   "metadata": {
    "scrolled": false
   },
   "outputs": [
    {
     "name": "stdout",
     "output_type": "stream",
     "text": [
      "(1, 128, 128)\n"
     ]
    },
    {
     "data": {
      "application/vnd.jupyter.widget-view+json": {
       "model_id": "e0d8561e849c49b7a6bf3177047b79ef",
       "version_major": 2,
       "version_minor": 0
      },
      "text/plain": [
       "ViewInteractiveWidget(height=768, layout=Layout(height='auto', width='100%'), width=1024)"
      ]
     },
     "metadata": {},
     "output_type": "display_data"
    },
    {
     "data": {
      "text/plain": [
       "<pyvista.plotting.plotting.Plotter at 0x130addf10>"
      ]
     },
     "execution_count": 20,
     "metadata": {},
     "output_type": "execute_result"
    }
   ],
   "source": [
    "# make a query to fetch a slice of this 3D dataset (in the middle of the 3rd axis)\n",
    "data=dataset.read(x=[0,2048],y=[0,2048],z=[1024,1025],max_resolution=21)\n",
    "print(data.shape)\n",
    "showData(data, opacity=[1.0])"
   ]
  },
  {
   "cell_type": "code",
   "execution_count": null,
   "metadata": {},
   "outputs": [
    {
     "name": "stdout",
     "output_type": "stream",
     "text": [
      "(72, 72, 72)\n"
     ]
    },
    {
     "data": {
      "application/vnd.jupyter.widget-view+json": {
       "model_id": "a60ce1b57e854af39d10f5ac93d177c9",
       "version_major": 2,
       "version_minor": 0
      },
      "text/plain": [
       "ViewInteractiveWidget(height=768, layout=Layout(height='auto', width='100%'), width=1024)"
      ]
     },
     "metadata": {},
     "output_type": "display_data"
    },
    {
     "data": {
      "text/plain": [
       "<pyvista.plotting.plotting.Plotter at 0x15cb5a820>"
      ]
     },
     "execution_count": 23,
     "metadata": {},
     "output_type": "execute_result"
    }
   ],
   "source": [
    "data=dataset.read(max_resolution=21)\n",
    "print(data.shape)\n",
    "\n",
    "# data = pv.wrap(data)\n",
    "showData(data)"
   ]
  },
  {
   "cell_type": "code",
   "execution_count": null,
   "metadata": {},
   "outputs": [
    {
     "data": {
      "application/vnd.jupyter.widget-view+json": {
       "model_id": "0676e9f47e1048098b2e188cb9a4288a",
       "version_major": 2,
       "version_minor": 0
      },
      "text/plain": [
       "ViewInteractiveWidget(height=768, layout=Layout(height='auto', width='100%'), width=1024)"
      ]
     },
     "metadata": {},
     "output_type": "display_data"
    },
    {
     "data": {
      "text/plain": [
       "<pyvista.plotting.plotting.Plotter at 0x132bce160>"
      ]
     },
     "execution_count": 24,
     "metadata": {},
     "output_type": "execute_result"
    }
   ],
   "source": [
    "showData(data, opacity='sigmoid')"
   ]
  },
  {
   "cell_type": "code",
   "execution_count": null,
   "metadata": {},
   "outputs": [
    {
     "data": {
      "text/plain": [
       "([0, 0], [131072, 131072])"
      ]
     },
     "execution_count": 25,
     "metadata": {},
     "output_type": "execute_result"
    }
   ],
   "source": [
    "# loading a large 2D microscopy dataset showing the retina of a rabbit\n",
    "dataset=ov.LoadDataset(\"http://atlantis.sci.utah.edu/mod_visus?dataset=rabbit\")\n",
    "# how big is the dataset ?\n",
    "# the logic box contains the extent of the dataset on the different axis\n",
    "dataset.getLogicBox()"
   ]
  },
  {
   "cell_type": "code",
   "execution_count": null,
   "metadata": {},
   "outputs": [
    {
     "data": {
      "text/plain": [
       "'EM'"
      ]
     },
     "execution_count": 26,
     "metadata": {},
     "output_type": "execute_result"
    }
   ],
   "source": [
    "# get default field name\n",
    "dataset.getField().name"
   ]
  },
  {
   "cell_type": "code",
   "execution_count": null,
   "metadata": {
    "scrolled": false
   },
   "outputs": [
    {
     "data": {
      "application/vnd.jupyter.widget-view+json": {
       "model_id": "2ef827bb925c407da3dcab68a2c059f8",
       "version_major": 2,
       "version_minor": 0
      },
      "text/plain": [
       "ViewInteractiveWidget(height=768, layout=Layout(height='auto', width='100%'), width=1024)"
      ]
     },
     "metadata": {},
     "output_type": "display_data"
    },
    {
     "data": {
      "text/plain": [
       "<pyvista.plotting.plotting.Plotter at 0x1631b2160>"
      ]
     },
     "execution_count": 27,
     "metadata": {},
     "output_type": "execute_result"
    }
   ],
   "source": [
    "data=dataset.read(max_resolution=22)\n",
    "showData(data.reshape(data.shape + (1,)))"
   ]
  },
  {
   "cell_type": "code",
   "execution_count": null,
   "metadata": {},
   "outputs": [
    {
     "data": {
      "text/plain": [
       "([0, 0, 0], [131072, 131072, 341])"
      ]
     },
     "execution_count": 29,
     "metadata": {},
     "output_type": "execute_result"
    }
   ],
   "source": [
    "# open a 3D version of this dataset\n",
    "dataset=ov.LoadDataset(\"http://atlantis.sci.utah.edu/mod_visus?dataset=rabbit3d\")\n",
    "# how big is the dataset ?\n",
    "# the logic box contains the extent of the dataset on the different axis\n",
    "dataset.getLogicBox()"
   ]
  },
  {
   "cell_type": "code",
   "execution_count": null,
   "metadata": {},
   "outputs": [
    {
     "data": {
      "text/plain": [
       "5472.083496412262"
      ]
     },
     "execution_count": 30,
     "metadata": {},
     "output_type": "execute_result"
    }
   ],
   "source": [
    "# almost 6TB size, can we still visualize it on this browser?\n",
    "131073*131073*342/(1024*1024*1024)"
   ]
  },
  {
   "cell_type": "code",
   "execution_count": null,
   "metadata": {
    "scrolled": false
   },
   "outputs": [
    {
     "data": {
      "application/vnd.jupyter.widget-view+json": {
       "model_id": "9755070cd6d1495fa36300e6d2ff8c45",
       "version_major": 2,
       "version_minor": 0
      },
      "text/plain": [
       "ViewInteractiveWidget(height=768, layout=Layout(height='auto', width='100%'), width=1024)"
      ]
     },
     "metadata": {},
     "output_type": "display_data"
    }
   ],
   "source": [
    "data=dataset.read(max_resolution=21)\n",
    "data = pv.wrap(data)\n",
    "\n",
    "pl = pv.Plotter()\n",
    "actor = pl.add_volume(data)\n",
    "pl.show()"
   ]
  },
  {
   "cell_type": "markdown",
   "metadata": {},
   "source": [
    "### Voxel spacing\n",
    "\n",
    "Microscopy data or CT scan often have different resolution along the axis, in order to make a realistic visualization we need to use correct voxel spacing"
   ]
  },
  {
   "cell_type": "code",
   "execution_count": null,
   "metadata": {},
   "outputs": [],
   "source": [
    "data=dataset.read(max_resolution=21)\n",
    "grid = pv.UniformGrid()\n",
    "grid.dimensions = np.array((data.shape[2],data.shape[1], data.shape[0]))\n",
    "grid.point_data[\"values\"] = data.ravel()"
   ]
  },
  {
   "cell_type": "code",
   "execution_count": null,
   "metadata": {},
   "outputs": [],
   "source": [
    "grid.spacing = (1.0, 1.0, 0.1)"
   ]
  },
  {
   "cell_type": "code",
   "execution_count": null,
   "metadata": {
    "scrolled": true
   },
   "outputs": [
    {
     "data": {
      "application/vnd.jupyter.widget-view+json": {
       "model_id": "64ef3fd057604efa8e108aadae855ef8",
       "version_major": 2,
       "version_minor": 0
      },
      "text/plain": [
       "ViewInteractiveWidget(height=768, layout=Layout(height='auto', width='100%'), width=1024)"
      ]
     },
     "metadata": {},
     "output_type": "display_data"
    }
   ],
   "source": [
    "pl = pv.Plotter()\n",
    "actor = pl.add_volume(grid)\n",
    "pl.show(cpos='xy')"
   ]
  },
  {
   "cell_type": "code",
   "execution_count": null,
   "metadata": {},
   "outputs": [
    {
     "data": {
      "text/plain": [
       "([0, 0, 0], [1055, 1024, 1024])"
      ]
     },
     "execution_count": 3,
     "metadata": {},
     "output_type": "execute_result"
    }
   ],
   "source": [
    "# we open a metallic foam dataset\n",
    "dataset=ov.LoadDataset(\"https://atlantis.sci.utah.edu/mod_visus?dataset=foam\")\n",
    "# how big is the dataset ?\n",
    "# the logic box contains the extent of the dataset on the different axis\n",
    "dataset.getLogicBox()"
   ]
  },
  {
   "cell_type": "code",
   "execution_count": null,
   "metadata": {
    "scrolled": false
   },
   "outputs": [
    {
     "data": {
      "application/vnd.jupyter.widget-view+json": {
       "model_id": "5bac317bb3ee4801afe838a78306b876",
       "version_major": 2,
       "version_minor": 0
      },
      "text/plain": [
       "ViewInteractiveWidget(height=768, layout=Layout(height='auto', width='100%'), width=1024)"
      ]
     },
     "metadata": {},
     "output_type": "display_data"
    }
   ],
   "source": [
    "# Visualize and explore the dataset \n",
    "# How can we evaluate the density of material?\n",
    "\n",
    "data=dataset.read(max_resolution=19)\n",
    "\n",
    "wrapped_data = pv.wrap(data)\n",
    "pl = pv.Plotter()\n",
    "actor = pl.add_volume(wrapped_data)\n",
    "pl.show()"
   ]
  },
  {
   "cell_type": "code",
   "execution_count": null,
   "metadata": {},
   "outputs": [
    {
     "data": {
      "text/html": [
       "<table><tr><th>Header</th><th>Data Arrays</th></tr><tr><td>\n",
       "<table>\n",
       "<tr><th>UniformGrid</th><th>Information</th></tr>\n",
       "<tr><td>N Cells</td><td>257985</td></tr>\n",
       "<tr><td>N Points</td><td>270336</td></tr>\n",
       "<tr><td>X Bounds</td><td>0.000e+00, 6.300e+01</td></tr>\n",
       "<tr><td>Y Bounds</td><td>0.000e+00, 6.300e+01</td></tr>\n",
       "<tr><td>Z Bounds</td><td>0.000e+00, 6.500e+01</td></tr>\n",
       "<tr><td>Dimensions</td><td>64, 64, 66</td></tr>\n",
       "<tr><td>Spacing</td><td>1.000e+00, 1.000e+00, 1.000e+00</td></tr>\n",
       "<tr><td>N Arrays</td><td>1</td></tr>\n",
       "</table>\n",
       "\n",
       "</td><td>\n",
       "<table>\n",
       "<tr><th>Name</th><th>Field</th><th>Type</th><th>N Comp</th><th>Min</th><th>Max</th></tr>\n",
       "<tr><td><b>values</b></td><td>Points</td><td>uint16</td><td>1</td><td>0.000e+00</td><td>6.254e+04</td></tr>\n",
       "</table>\n",
       "\n",
       "</td></tr> </table>"
      ],
      "text/plain": [
       "UniformGrid (0x1302c3340)\n",
       "  N Cells:      257985\n",
       "  N Points:     270336\n",
       "  X Bounds:     0.000e+00, 6.300e+01\n",
       "  Y Bounds:     0.000e+00, 6.300e+01\n",
       "  Z Bounds:     0.000e+00, 6.500e+01\n",
       "  Dimensions:   64, 64, 66\n",
       "  Spacing:      1.000e+00, 1.000e+00, 1.000e+00\n",
       "  N Arrays:     1"
      ]
     },
     "execution_count": 5,
     "metadata": {},
     "output_type": "execute_result"
    }
   ],
   "source": [
    "wrapped_data"
   ]
  },
  {
   "cell_type": "code",
   "execution_count": null,
   "metadata": {},
   "outputs": [
    {
     "data": {
      "text/plain": [
       "0.3226355350378788"
      ]
     },
     "execution_count": 5,
     "metadata": {},
     "output_type": "execute_result"
    }
   ],
   "source": [
    "# Evaluate the density of material \n",
    "mat_interface_val = 10000\n",
    "count = (data > mat_interface_val).sum()\n",
    "density = count/(data.shape[0]*data.shape[1]*data.shape[2])\n",
    "density\n"
   ]
  },
  {
   "cell_type": "code",
   "execution_count": null,
   "metadata": {},
   "outputs": [],
   "source": [
    "def density_res(res):\n",
    "    data=dataset.read(max_resolution=res)\n",
    "    count = (data > mat_interface_val).sum()\n",
    "    density = count/(data.shape[0]*data.shape[1]*data.shape[2])\n",
    "    return density"
   ]
  },
  {
   "cell_type": "code",
   "execution_count": null,
   "metadata": {},
   "outputs": [
    {
     "data": {
      "text/plain": [
       "0.3249557957504735"
      ]
     },
     "execution_count": 7,
     "metadata": {},
     "output_type": "execute_result"
    }
   ],
   "source": [
    "density_res(21)"
   ]
  },
  {
   "cell_type": "code",
   "execution_count": null,
   "metadata": {},
   "outputs": [
    {
     "data": {
      "text/plain": [
       "0.32427238695549243"
      ]
     },
     "execution_count": 8,
     "metadata": {},
     "output_type": "execute_result"
    }
   ],
   "source": [
    "density_res(20)"
   ]
  },
  {
   "cell_type": "code",
   "execution_count": null,
   "metadata": {},
   "outputs": [
    {
     "data": {
      "text/plain": [
       "0.3226355350378788"
      ]
     },
     "execution_count": 9,
     "metadata": {},
     "output_type": "execute_result"
    }
   ],
   "source": [
    "density_res(18)"
   ]
  },
  {
   "cell_type": "code",
   "execution_count": null,
   "metadata": {},
   "outputs": [
    {
     "data": {
      "text/plain": [
       "0.04532137784090909"
      ]
     },
     "execution_count": 190,
     "metadata": {},
     "output_type": "execute_result"
    }
   ],
   "source": [
    "density_res(17)"
   ]
  },
  {
   "cell_type": "code",
   "execution_count": null,
   "metadata": {},
   "outputs": [
    {
     "data": {
      "text/plain": [
       "0.3151041666666667"
      ]
     },
     "execution_count": 66,
     "metadata": {},
     "output_type": "execute_result"
    }
   ],
   "source": [
    "density_res(15)"
   ]
  },
  {
   "cell_type": "code",
   "execution_count": null,
   "metadata": {},
   "outputs": [
    {
     "data": {
      "text/plain": [
       "0.3107638888888889"
      ]
     },
     "execution_count": 67,
     "metadata": {},
     "output_type": "execute_result"
    }
   ],
   "source": [
    "density_res(10)"
   ]
  },
  {
   "cell_type": "code",
   "execution_count": null,
   "metadata": {},
   "outputs": [
    {
     "data": {
      "text/plain": [
       "0.32539067123875476"
      ]
     },
     "execution_count": 68,
     "metadata": {},
     "output_type": "execute_result"
    }
   ],
   "source": [
    "density_res(23)"
   ]
  },
  {
   "cell_type": "code",
   "execution_count": null,
   "metadata": {},
   "outputs": [],
   "source": []
  }
 ],
 "metadata": {
  "kernelspec": {
   "display_name": "Python 3 (ipykernel)",
   "language": "python",
   "name": "python3"
  },
  "language_info": {
   "codemirror_mode": {
    "name": "ipython",
    "version": 3
   },
   "file_extension": ".py",
   "mimetype": "text/x-python",
   "name": "python",
   "nbconvert_exporter": "python",
   "pygments_lexer": "ipython3",
   "version": "3.9.5"
  }
 },
 "nbformat": 4,
 "nbformat_minor": 2
}
